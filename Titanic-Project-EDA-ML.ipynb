{
 "cells": [
  {
   "cell_type": "markdown",
   "metadata": {},
   "source": [
    "# Imports"
   ]
  },
  {
   "cell_type": "code",
   "execution_count": 2,
   "metadata": {
    "execution": {
     "iopub.execute_input": "2024-11-25T23:01:09.442916Z",
     "iopub.status.busy": "2024-11-25T23:01:09.442587Z",
     "iopub.status.idle": "2024-11-25T23:01:09.459957Z",
     "shell.execute_reply": "2024-11-25T23:01:09.458960Z",
     "shell.execute_reply.started": "2024-11-25T23:01:09.442885Z"
    }
   },
   "outputs": [],
   "source": [
    "#IMPORTS \n",
    "import numpy as np\n",
    "import pandas as pd\n",
    "import matplotlib.pyplot as plt\n",
    "import seaborn as sns\n",
    "%matplotlib inline\n",
    "\n",
    "from sklearn.preprocessing import OneHotEncoder\n",
    "from sklearn.ensemble import RandomForestClassifier,GradientBoostingClassifier\n",
    "from sklearn.neighbors import KNeighborsClassifier\n",
    "from catboost import CatBoostClassifier\n",
    "from xgboost import XGBClassifier\n",
    "from sklearn.model_selection import train_test_split, GridSearchCV, cross_val_score\n",
    "from sklearn.experimental import enable_iterative_imputer\n",
    "from sklearn.impute import IterativeImputer\n",
    "from sklearn.neighbors import KNeighborsRegressor\n",
    "from sklearn.metrics import accuracy_score\n",
    "from sklearn.preprocessing import StandardScaler\n",
    "from sklearn.model_selection import StratifiedKFold\n",
    "\n",
    "\n",
    "\n",
    "import warnings\n",
    "warnings.filterwarnings(\"ignore\")\n",
    "\n",
    "sns.set_style(\"whitegrid\")\n",
    "sns.set_theme(rc={'figure.figsize':(8,6)})"
   ]
  },
  {
   "cell_type": "markdown",
   "metadata": {},
   "source": [
    "# Dataset Description\n",
    "\n",
    "The data consists of passenger records from the **Titanic** disaster. The main objective is to predict whether each passenger in the test set survived. The dataset is divided into three files:\n",
    "\n",
    "### Files\n",
    "- **train.csv** - Contains records for passengers with the target variable `Survived`, indicating whether each passenger survived (1) or not (0).\n",
    "- **test.csv** - Contains records for passengers whose survival status needs to be predicted.\n",
    "aggle.\n",
    "\n",
    "---\n",
    "\n",
    "### Columns in train.csv and test.csv\n",
    "\n",
    "| Column         | Description                                                                                             |\n",
    "|----------------|---------------------------------------------------------------------------------------------------------|\n",
    "| **PassengerId**| Unique identifier for each passenger.                                                                   |\n",
    "|   *Survived**  | Target variable (1 = survived, 0 = don't survive).                                                       |\n",
    "| **Pclass**     | Ticket class (1 = 1st class, 2 = 2nd class, 3 = 3rd class).                                             |\n",
    "| **Name**       | The name of the passenger.                                                                              |\n",
    "| **Sex**        | The gender of the passenger (`male` or `female`).                                                       |\n",
    "| **Age**        | The age of the passenger in years.                                                                      |\n",
    "| **SibSp**      | Number of siblings or spouses aboard the Titanic.                                                       |\n",
    "| **Parch**      | Number of parents or children aboard the Titanic.                                                       |\n",
    "| **Ticket**     | Ticket number.                                                                                          |\n",
    "| **Fare**       | The amount of money paid for the ticket.                                                                |\n",
    "| **Cabin**      | Cabin number. Some values may be missing.                                                               |\n",
    "| **Embarked**   | Port of embarkation (`C` = Cherbourg, `Q` = Queenstown, `S` = Southampton).                             |\n",
    "\n",
    "---\n",
    "\n",
    "### Sample Submission Format\n",
    "\n",
    "- **PassengerId** - The unique identifier for each passenger in the test set.\n",
    "- **Survived** - Your prediction for each passenger, either `1` (survived) or `0` (did not survive).\n",
    "\n",
    "Each row in your submission should match the following format:\n",
    "\n",
    "| PassengerId | Survived |\n",
    "|-------------|----------|\n",
    "| 892         | 0        |\n",
    "| 893         | 1        |\n",
    "| ...         | ...      |\n"
   ]
  },
  {
   "cell_type": "markdown",
   "metadata": {},
   "source": [
    "# Loading and undestanding data\n",
    "\n",
    "We begin by loading the training and test datasets from the CSV files into pandas DataFrames."
   ]
  },
  {
   "cell_type": "code",
   "execution_count": 4,
   "metadata": {
    "execution": {
     "iopub.execute_input": "2024-11-25T23:01:09.461962Z",
     "iopub.status.busy": "2024-11-25T23:01:09.461651Z",
     "iopub.status.idle": "2024-11-25T23:01:09.493690Z",
     "shell.execute_reply": "2024-11-25T23:01:09.492654Z",
     "shell.execute_reply.started": "2024-11-25T23:01:09.461933Z"
    }
   },
   "outputs": [
    {
     "data": {
      "text/html": [
       "<div>\n",
       "<style scoped>\n",
       "    .dataframe tbody tr th:only-of-type {\n",
       "        vertical-align: middle;\n",
       "    }\n",
       "\n",
       "    .dataframe tbody tr th {\n",
       "        vertical-align: top;\n",
       "    }\n",
       "\n",
       "    .dataframe thead th {\n",
       "        text-align: right;\n",
       "    }\n",
       "</style>\n",
       "<table border=\"1\" class=\"dataframe\">\n",
       "  <thead>\n",
       "    <tr style=\"text-align: right;\">\n",
       "      <th></th>\n",
       "      <th>PassengerId</th>\n",
       "      <th>Survived</th>\n",
       "      <th>Pclass</th>\n",
       "      <th>Name</th>\n",
       "      <th>Sex</th>\n",
       "      <th>Age</th>\n",
       "      <th>SibSp</th>\n",
       "      <th>Parch</th>\n",
       "      <th>Ticket</th>\n",
       "      <th>Fare</th>\n",
       "      <th>Cabin</th>\n",
       "      <th>Embarked</th>\n",
       "    </tr>\n",
       "  </thead>\n",
       "  <tbody>\n",
       "    <tr>\n",
       "      <th>0</th>\n",
       "      <td>1</td>\n",
       "      <td>0</td>\n",
       "      <td>3</td>\n",
       "      <td>Braund, Mr. Owen Harris</td>\n",
       "      <td>male</td>\n",
       "      <td>22.0</td>\n",
       "      <td>1</td>\n",
       "      <td>0</td>\n",
       "      <td>A/5 21171</td>\n",
       "      <td>7.2500</td>\n",
       "      <td>NaN</td>\n",
       "      <td>S</td>\n",
       "    </tr>\n",
       "    <tr>\n",
       "      <th>1</th>\n",
       "      <td>2</td>\n",
       "      <td>1</td>\n",
       "      <td>1</td>\n",
       "      <td>Cumings, Mrs. John Bradley (Florence Briggs Th...</td>\n",
       "      <td>female</td>\n",
       "      <td>38.0</td>\n",
       "      <td>1</td>\n",
       "      <td>0</td>\n",
       "      <td>PC 17599</td>\n",
       "      <td>71.2833</td>\n",
       "      <td>C85</td>\n",
       "      <td>C</td>\n",
       "    </tr>\n",
       "    <tr>\n",
       "      <th>2</th>\n",
       "      <td>3</td>\n",
       "      <td>1</td>\n",
       "      <td>3</td>\n",
       "      <td>Heikkinen, Miss. Laina</td>\n",
       "      <td>female</td>\n",
       "      <td>26.0</td>\n",
       "      <td>0</td>\n",
       "      <td>0</td>\n",
       "      <td>STON/O2. 3101282</td>\n",
       "      <td>7.9250</td>\n",
       "      <td>NaN</td>\n",
       "      <td>S</td>\n",
       "    </tr>\n",
       "    <tr>\n",
       "      <th>3</th>\n",
       "      <td>4</td>\n",
       "      <td>1</td>\n",
       "      <td>1</td>\n",
       "      <td>Futrelle, Mrs. Jacques Heath (Lily May Peel)</td>\n",
       "      <td>female</td>\n",
       "      <td>35.0</td>\n",
       "      <td>1</td>\n",
       "      <td>0</td>\n",
       "      <td>113803</td>\n",
       "      <td>53.1000</td>\n",
       "      <td>C123</td>\n",
       "      <td>S</td>\n",
       "    </tr>\n",
       "    <tr>\n",
       "      <th>4</th>\n",
       "      <td>5</td>\n",
       "      <td>0</td>\n",
       "      <td>3</td>\n",
       "      <td>Allen, Mr. William Henry</td>\n",
       "      <td>male</td>\n",
       "      <td>35.0</td>\n",
       "      <td>0</td>\n",
       "      <td>0</td>\n",
       "      <td>373450</td>\n",
       "      <td>8.0500</td>\n",
       "      <td>NaN</td>\n",
       "      <td>S</td>\n",
       "    </tr>\n",
       "  </tbody>\n",
       "</table>\n",
       "</div>"
      ],
      "text/plain": [
       "   PassengerId  Survived  Pclass  \\\n",
       "0            1         0       3   \n",
       "1            2         1       1   \n",
       "2            3         1       3   \n",
       "3            4         1       1   \n",
       "4            5         0       3   \n",
       "\n",
       "                                                Name     Sex   Age  SibSp  \\\n",
       "0                            Braund, Mr. Owen Harris    male  22.0      1   \n",
       "1  Cumings, Mrs. John Bradley (Florence Briggs Th...  female  38.0      1   \n",
       "2                             Heikkinen, Miss. Laina  female  26.0      0   \n",
       "3       Futrelle, Mrs. Jacques Heath (Lily May Peel)  female  35.0      1   \n",
       "4                           Allen, Mr. William Henry    male  35.0      0   \n",
       "\n",
       "   Parch            Ticket     Fare Cabin Embarked  \n",
       "0      0         A/5 21171   7.2500   NaN        S  \n",
       "1      0          PC 17599  71.2833   C85        C  \n",
       "2      0  STON/O2. 3101282   7.9250   NaN        S  \n",
       "3      0            113803  53.1000  C123        S  \n",
       "4      0            373450   8.0500   NaN        S  "
      ]
     },
     "execution_count": 4,
     "metadata": {},
     "output_type": "execute_result"
    }
   ],
   "source": [
    "train = pd.read_csv(\"data/train.csv\")\n",
    "test = pd.read_csv(\"data/test.csv\")\n",
    "\n",
    "train.head()"
   ]
  },
  {
   "cell_type": "code",
   "execution_count": 174,
   "metadata": {
    "execution": {
     "iopub.execute_input": "2024-11-25T23:01:09.496401Z",
     "iopub.status.busy": "2024-11-25T23:01:09.495629Z",
     "iopub.status.idle": "2024-11-25T23:01:09.511261Z",
     "shell.execute_reply": "2024-11-25T23:01:09.510300Z",
     "shell.execute_reply.started": "2024-11-25T23:01:09.496350Z"
    }
   },
   "outputs": [
    {
     "data": {
      "text/html": [
       "<div>\n",
       "<style scoped>\n",
       "    .dataframe tbody tr th:only-of-type {\n",
       "        vertical-align: middle;\n",
       "    }\n",
       "\n",
       "    .dataframe tbody tr th {\n",
       "        vertical-align: top;\n",
       "    }\n",
       "\n",
       "    .dataframe thead th {\n",
       "        text-align: right;\n",
       "    }\n",
       "</style>\n",
       "<table border=\"1\" class=\"dataframe\">\n",
       "  <thead>\n",
       "    <tr style=\"text-align: right;\">\n",
       "      <th></th>\n",
       "      <th>PassengerId</th>\n",
       "      <th>Pclass</th>\n",
       "      <th>Name</th>\n",
       "      <th>Sex</th>\n",
       "      <th>Age</th>\n",
       "      <th>SibSp</th>\n",
       "      <th>Parch</th>\n",
       "      <th>Ticket</th>\n",
       "      <th>Fare</th>\n",
       "      <th>Cabin</th>\n",
       "      <th>Embarked</th>\n",
       "    </tr>\n",
       "  </thead>\n",
       "  <tbody>\n",
       "    <tr>\n",
       "      <th>0</th>\n",
       "      <td>892</td>\n",
       "      <td>3</td>\n",
       "      <td>Kelly, Mr. James</td>\n",
       "      <td>male</td>\n",
       "      <td>34.5</td>\n",
       "      <td>0</td>\n",
       "      <td>0</td>\n",
       "      <td>330911</td>\n",
       "      <td>7.8292</td>\n",
       "      <td>NaN</td>\n",
       "      <td>Q</td>\n",
       "    </tr>\n",
       "    <tr>\n",
       "      <th>1</th>\n",
       "      <td>893</td>\n",
       "      <td>3</td>\n",
       "      <td>Wilkes, Mrs. James (Ellen Needs)</td>\n",
       "      <td>female</td>\n",
       "      <td>47.0</td>\n",
       "      <td>1</td>\n",
       "      <td>0</td>\n",
       "      <td>363272</td>\n",
       "      <td>7.0000</td>\n",
       "      <td>NaN</td>\n",
       "      <td>S</td>\n",
       "    </tr>\n",
       "    <tr>\n",
       "      <th>2</th>\n",
       "      <td>894</td>\n",
       "      <td>2</td>\n",
       "      <td>Myles, Mr. Thomas Francis</td>\n",
       "      <td>male</td>\n",
       "      <td>62.0</td>\n",
       "      <td>0</td>\n",
       "      <td>0</td>\n",
       "      <td>240276</td>\n",
       "      <td>9.6875</td>\n",
       "      <td>NaN</td>\n",
       "      <td>Q</td>\n",
       "    </tr>\n",
       "    <tr>\n",
       "      <th>3</th>\n",
       "      <td>895</td>\n",
       "      <td>3</td>\n",
       "      <td>Wirz, Mr. Albert</td>\n",
       "      <td>male</td>\n",
       "      <td>27.0</td>\n",
       "      <td>0</td>\n",
       "      <td>0</td>\n",
       "      <td>315154</td>\n",
       "      <td>8.6625</td>\n",
       "      <td>NaN</td>\n",
       "      <td>S</td>\n",
       "    </tr>\n",
       "    <tr>\n",
       "      <th>4</th>\n",
       "      <td>896</td>\n",
       "      <td>3</td>\n",
       "      <td>Hirvonen, Mrs. Alexander (Helga E Lindqvist)</td>\n",
       "      <td>female</td>\n",
       "      <td>22.0</td>\n",
       "      <td>1</td>\n",
       "      <td>1</td>\n",
       "      <td>3101298</td>\n",
       "      <td>12.2875</td>\n",
       "      <td>NaN</td>\n",
       "      <td>S</td>\n",
       "    </tr>\n",
       "  </tbody>\n",
       "</table>\n",
       "</div>"
      ],
      "text/plain": [
       "   PassengerId  Pclass                                          Name     Sex  \\\n",
       "0          892       3                              Kelly, Mr. James    male   \n",
       "1          893       3              Wilkes, Mrs. James (Ellen Needs)  female   \n",
       "2          894       2                     Myles, Mr. Thomas Francis    male   \n",
       "3          895       3                              Wirz, Mr. Albert    male   \n",
       "4          896       3  Hirvonen, Mrs. Alexander (Helga E Lindqvist)  female   \n",
       "\n",
       "    Age  SibSp  Parch   Ticket     Fare Cabin Embarked  \n",
       "0  34.5      0      0   330911   7.8292   NaN        Q  \n",
       "1  47.0      1      0   363272   7.0000   NaN        S  \n",
       "2  62.0      0      0   240276   9.6875   NaN        Q  \n",
       "3  27.0      0      0   315154   8.6625   NaN        S  \n",
       "4  22.0      1      1  3101298  12.2875   NaN        S  "
      ]
     },
     "execution_count": 174,
     "metadata": {},
     "output_type": "execute_result"
    }
   ],
   "source": [
    "test.head()"
   ]
  },
  {
   "cell_type": "code",
   "execution_count": 175,
   "metadata": {
    "execution": {
     "iopub.execute_input": "2024-11-25T23:01:09.513112Z",
     "iopub.status.busy": "2024-11-25T23:01:09.512384Z",
     "iopub.status.idle": "2024-11-25T23:01:09.530813Z",
     "shell.execute_reply": "2024-11-25T23:01:09.529646Z",
     "shell.execute_reply.started": "2024-11-25T23:01:09.513076Z"
    }
   },
   "outputs": [
    {
     "name": "stdout",
     "output_type": "stream",
     "text": [
      "<class 'pandas.core.frame.DataFrame'>\n",
      "RangeIndex: 891 entries, 0 to 890\n",
      "Data columns (total 12 columns):\n",
      " #   Column       Non-Null Count  Dtype  \n",
      "---  ------       --------------  -----  \n",
      " 0   PassengerId  891 non-null    int64  \n",
      " 1   Survived     891 non-null    int64  \n",
      " 2   Pclass       891 non-null    int64  \n",
      " 3   Name         891 non-null    object \n",
      " 4   Sex          891 non-null    object \n",
      " 5   Age          714 non-null    float64\n",
      " 6   SibSp        891 non-null    int64  \n",
      " 7   Parch        891 non-null    int64  \n",
      " 8   Ticket       891 non-null    object \n",
      " 9   Fare         891 non-null    float64\n",
      " 10  Cabin        204 non-null    object \n",
      " 11  Embarked     889 non-null    object \n",
      "dtypes: float64(2), int64(5), object(5)\n",
      "memory usage: 83.7+ KB\n"
     ]
    }
   ],
   "source": [
    "train.info()"
   ]
  },
  {
   "cell_type": "code",
   "execution_count": 176,
   "metadata": {
    "execution": {
     "iopub.execute_input": "2024-11-25T23:01:09.533725Z",
     "iopub.status.busy": "2024-11-25T23:01:09.533324Z",
     "iopub.status.idle": "2024-11-25T23:01:09.545255Z",
     "shell.execute_reply": "2024-11-25T23:01:09.544118Z",
     "shell.execute_reply.started": "2024-11-25T23:01:09.533690Z"
    }
   },
   "outputs": [
    {
     "data": {
      "text/plain": [
       "PassengerId      0\n",
       "Survived         0\n",
       "Pclass           0\n",
       "Name             0\n",
       "Sex              0\n",
       "Age            177\n",
       "SibSp            0\n",
       "Parch            0\n",
       "Ticket           0\n",
       "Fare             0\n",
       "Cabin          687\n",
       "Embarked         2\n",
       "dtype: int64"
      ]
     },
     "execution_count": 176,
     "metadata": {},
     "output_type": "execute_result"
    }
   ],
   "source": [
    "train.isna().sum()"
   ]
  },
  {
   "cell_type": "code",
   "execution_count": 177,
   "metadata": {
    "execution": {
     "iopub.execute_input": "2024-11-25T23:01:09.547372Z",
     "iopub.status.busy": "2024-11-25T23:01:09.546614Z",
     "iopub.status.idle": "2024-11-25T23:01:09.560277Z",
     "shell.execute_reply": "2024-11-25T23:01:09.559170Z",
     "shell.execute_reply.started": "2024-11-25T23:01:09.547333Z"
    }
   },
   "outputs": [
    {
     "data": {
      "text/plain": [
       "PassengerId      0\n",
       "Pclass           0\n",
       "Name             0\n",
       "Sex              0\n",
       "Age             86\n",
       "SibSp            0\n",
       "Parch            0\n",
       "Ticket           0\n",
       "Fare             1\n",
       "Cabin          327\n",
       "Embarked         0\n",
       "dtype: int64"
      ]
     },
     "execution_count": 177,
     "metadata": {},
     "output_type": "execute_result"
    }
   ],
   "source": [
    "test.isna().sum()"
   ]
  },
  {
   "cell_type": "markdown",
   "metadata": {},
   "source": [
    "# Exploratory Data Analysis"
   ]
  },
  {
   "cell_type": "markdown",
   "metadata": {},
   "source": [
    "## 1. Survival Distribution\n",
    "\n"
   ]
  },
  {
   "cell_type": "code",
   "execution_count": 178,
   "metadata": {
    "execution": {
     "iopub.execute_input": "2024-11-25T23:01:09.562540Z",
     "iopub.status.busy": "2024-11-25T23:01:09.561798Z",
     "iopub.status.idle": "2024-11-25T23:01:09.833655Z",
     "shell.execute_reply": "2024-11-25T23:01:09.832878Z",
     "shell.execute_reply.started": "2024-11-25T23:01:09.562491Z"
    }
   },
   "outputs": [
    {
     "data": {
      "image/png": "[encoded data removed]",
      "text/plain": [
       "<Figure size 800x600 with 1 Axes>"
      ]
     },
     "metadata": {},
     "output_type": "display_data"
    }
   ],
   "source": [
    "sns.countplot(x='Survived', data=train)\n",
    "plt.title(\"Survival Distribution\")\n",
    "plt.xlabel(\"Survived (0 = No, 1 = Yes)\")\n",
    "plt.ylabel(\"Count\")\n",
    "plt.show()"
   ]
  },
  {
   "cell_type": "markdown",
   "metadata": {},
   "source": [
    "### Conclusion: Survival Distribution\n",
    "\n",
    "From the bar plot showing the survival distribution, we observe the following:\n",
    "\n",
    "- The majority of passengers **did not survive** the Titanic disaster, with more than 500 passengers classified as non-survivors (`Survived = 0`).\n",
    "- A significantly smaller proportion of passengers **survived** the disaster, with fewer than 300 passengers classified as survivors (`Survived = 1`)."
   ]
  },
  {
   "cell_type": "markdown",
   "metadata": {},
   "source": [
    "## 2. Pclass "
   ]
  },
  {
   "cell_type": "code",
   "execution_count": 179,
   "metadata": {
    "execution": {
     "iopub.execute_input": "2024-11-25T23:01:09.837637Z",
     "iopub.status.busy": "2024-11-25T23:01:09.836859Z",
     "iopub.status.idle": "2024-11-25T23:01:09.849205Z",
     "shell.execute_reply": "2024-11-25T23:01:09.848064Z",
     "shell.execute_reply.started": "2024-11-25T23:01:09.837584Z"
    }
   },
   "outputs": [
    {
     "data": {
      "text/html": [
       "<div>\n",
       "<style scoped>\n",
       "    .dataframe tbody tr th:only-of-type {\n",
       "        vertical-align: middle;\n",
       "    }\n",
       "\n",
       "    .dataframe tbody tr th {\n",
       "        vertical-align: top;\n",
       "    }\n",
       "\n",
       "    .dataframe thead th {\n",
       "        text-align: right;\n",
       "    }\n",
       "</style>\n",
       "<table border=\"1\" class=\"dataframe\">\n",
       "  <thead>\n",
       "    <tr style=\"text-align: right;\">\n",
       "      <th></th>\n",
       "      <th>Survived</th>\n",
       "    </tr>\n",
       "    <tr>\n",
       "      <th>Pclass</th>\n",
       "      <th></th>\n",
       "    </tr>\n",
       "  </thead>\n",
       "  <tbody>\n",
       "    <tr>\n",
       "      <th>1</th>\n",
       "      <td>0.629630</td>\n",
       "    </tr>\n",
       "    <tr>\n",
       "      <th>2</th>\n",
       "      <td>0.472826</td>\n",
       "    </tr>\n",
       "    <tr>\n",
       "      <th>3</th>\n",
       "      <td>0.242363</td>\n",
       "    </tr>\n",
       "  </tbody>\n",
       "</table>\n",
       "</div>"
      ],
      "text/plain": [
       "        Survived\n",
       "Pclass          \n",
       "1       0.629630\n",
       "2       0.472826\n",
       "3       0.242363"
      ]
     },
     "execution_count": 179,
     "metadata": {},
     "output_type": "execute_result"
    }
   ],
   "source": [
    "train[[\"Pclass\",\"Survived\"]].groupby(by=\"Pclass\",as_index=True).mean()"
   ]
  },
  {
   "cell_type": "code",
   "execution_count": 180,
   "metadata": {
    "execution": {
     "iopub.execute_input": "2024-11-25T23:01:09.850686Z",
     "iopub.status.busy": "2024-11-25T23:01:09.850352Z",
     "iopub.status.idle": "2024-11-25T23:01:10.169792Z",
     "shell.execute_reply": "2024-11-25T23:01:10.168683Z",
     "shell.execute_reply.started": "2024-11-25T23:01:09.850646Z"
    }
   },
   "outputs": [
    {
     "data": {
      "image/png": "[encoded data removed]",
      "text/plain": [
       "<Figure size 800x600 with 1 Axes>"
      ]
     },
     "metadata": {},
     "output_type": "display_data"
    }
   ],
   "source": [
    "sns.countplot(x='Pclass', data=train,hue=\"Survived\")\n",
    "plt.title(\"Pclass - Survival\")\n",
    "plt.show()"
   ]
  },
  {
   "cell_type": "markdown",
   "metadata": {},
   "source": [
    "### Conclusion\n",
    "\n",
    "From the analysis of survival rates by passenger class (`Pclass`), we can make the following observations:\n",
    "\n",
    "- **1st class passengers** had the highest survival rate, with approximately 63% of them surviving the Titanic disaster.\n",
    "- **2nd class passengers** had a lower survival rate, around 47%.\n",
    "- **3rd class passengers** had the lowest survival rate, with only about 24% surviving.\n",
    "\n",
    "This suggests that **passenger class** was a significant factor influencing survival, with higher-class passengers having better chances of survival. This could be due to factors such as proximity to lifeboats and prioritization in evacuation procedures."
   ]
  },
  {
   "cell_type": "markdown",
   "metadata": {},
   "source": [
    "## 3. Sex"
   ]
  },
  {
   "cell_type": "code",
   "execution_count": 181,
   "metadata": {
    "execution": {
     "iopub.execute_input": "2024-11-25T23:01:10.171275Z",
     "iopub.status.busy": "2024-11-25T23:01:10.170974Z",
     "iopub.status.idle": "2024-11-25T23:01:10.183572Z",
     "shell.execute_reply": "2024-11-25T23:01:10.182533Z",
     "shell.execute_reply.started": "2024-11-25T23:01:10.171246Z"
    }
   },
   "outputs": [
    {
     "data": {
      "text/html": [
       "<div>\n",
       "<style scoped>\n",
       "    .dataframe tbody tr th:only-of-type {\n",
       "        vertical-align: middle;\n",
       "    }\n",
       "\n",
       "    .dataframe tbody tr th {\n",
       "        vertical-align: top;\n",
       "    }\n",
       "\n",
       "    .dataframe thead th {\n",
       "        text-align: right;\n",
       "    }\n",
       "</style>\n",
       "<table border=\"1\" class=\"dataframe\">\n",
       "  <thead>\n",
       "    <tr style=\"text-align: right;\">\n",
       "      <th></th>\n",
       "      <th>Survived</th>\n",
       "    </tr>\n",
       "    <tr>\n",
       "      <th>Sex</th>\n",
       "      <th></th>\n",
       "    </tr>\n",
       "  </thead>\n",
       "  <tbody>\n",
       "    <tr>\n",
       "      <th>female</th>\n",
       "      <td>0.742038</td>\n",
       "    </tr>\n",
       "    <tr>\n",
       "      <th>male</th>\n",
       "      <td>0.188908</td>\n",
       "    </tr>\n",
       "  </tbody>\n",
       "</table>\n",
       "</div>"
      ],
      "text/plain": [
       "        Survived\n",
       "Sex             \n",
       "female  0.742038\n",
       "male    0.188908"
      ]
     },
     "execution_count": 181,
     "metadata": {},
     "output_type": "execute_result"
    }
   ],
   "source": [
    "train[[\"Sex\",\"Survived\"]].groupby(by=\"Sex\",as_index=True).mean()"
   ]
  },
  {
   "cell_type": "code",
   "execution_count": 182,
   "metadata": {
    "execution": {
     "iopub.execute_input": "2024-11-25T23:01:10.185112Z",
     "iopub.status.busy": "2024-11-25T23:01:10.184793Z",
     "iopub.status.idle": "2024-11-25T23:01:10.504737Z",
     "shell.execute_reply": "2024-11-25T23:01:10.503942Z",
     "shell.execute_reply.started": "2024-11-25T23:01:10.185082Z"
    }
   },
   "outputs": [
    {
     "data": {
      "image/png": "[encoded data removed]",
      "text/plain": [
       "<Figure size 800x600 with 1 Axes>"
      ]
     },
     "metadata": {},
     "output_type": "display_data"
    }
   ],
   "source": [
    "sns.histplot(data=train, x='Sex', hue='Survived', multiple='stack', shrink=0.8)\n",
    "plt.title(\"Sex - Survived\")\n",
    "plt.show()"
   ]
  },
  {
   "cell_type": "markdown",
   "metadata": {},
   "source": [
    "### Conclusion\n",
    "\n",
    "From the analysis of survival rates by gender (`Sex`), we observe the following:\n",
    "\n",
    "- **Females** had a significantly higher survival rate (74%) compared to **males**, who had a survival rate of only 19%.\n",
    "- This suggests that gender was an important factor influencing survival, with females having a much higher chance of survival during the Titanic disaster."
   ]
  },
  {
   "cell_type": "markdown",
   "metadata": {},
   "source": [
    "## 4. Embarked"
   ]
  },
  {
   "cell_type": "code",
   "execution_count": 183,
   "metadata": {
    "execution": {
     "iopub.execute_input": "2024-11-25T23:01:10.506136Z",
     "iopub.status.busy": "2024-11-25T23:01:10.505828Z",
     "iopub.status.idle": "2024-11-25T23:01:10.514688Z",
     "shell.execute_reply": "2024-11-25T23:01:10.513673Z",
     "shell.execute_reply.started": "2024-11-25T23:01:10.506105Z"
    }
   },
   "outputs": [],
   "source": [
    "train[\"Embarked\"].fillna(train[\"Embarked\"].mode()[0],inplace=True)"
   ]
  },
  {
   "cell_type": "code",
   "execution_count": 184,
   "metadata": {
    "execution": {
     "iopub.execute_input": "2024-11-25T23:01:10.516648Z",
     "iopub.status.busy": "2024-11-25T23:01:10.516231Z",
     "iopub.status.idle": "2024-11-25T23:01:10.529997Z",
     "shell.execute_reply": "2024-11-25T23:01:10.528872Z",
     "shell.execute_reply.started": "2024-11-25T23:01:10.516603Z"
    }
   },
   "outputs": [
    {
     "data": {
      "text/html": [
       "<div>\n",
       "<style scoped>\n",
       "    .dataframe tbody tr th:only-of-type {\n",
       "        vertical-align: middle;\n",
       "    }\n",
       "\n",
       "    .dataframe tbody tr th {\n",
       "        vertical-align: top;\n",
       "    }\n",
       "\n",
       "    .dataframe thead th {\n",
       "        text-align: right;\n",
       "    }\n",
       "</style>\n",
       "<table border=\"1\" class=\"dataframe\">\n",
       "  <thead>\n",
       "    <tr style=\"text-align: right;\">\n",
       "      <th></th>\n",
       "      <th>Survived</th>\n",
       "    </tr>\n",
       "    <tr>\n",
       "      <th>Embarked</th>\n",
       "      <th></th>\n",
       "    </tr>\n",
       "  </thead>\n",
       "  <tbody>\n",
       "    <tr>\n",
       "      <th>C</th>\n",
       "      <td>0.553571</td>\n",
       "    </tr>\n",
       "    <tr>\n",
       "      <th>Q</th>\n",
       "      <td>0.389610</td>\n",
       "    </tr>\n",
       "    <tr>\n",
       "      <th>S</th>\n",
       "      <td>0.339009</td>\n",
       "    </tr>\n",
       "  </tbody>\n",
       "</table>\n",
       "</div>"
      ],
      "text/plain": [
       "          Survived\n",
       "Embarked          \n",
       "C         0.553571\n",
       "Q         0.389610\n",
       "S         0.339009"
      ]
     },
     "execution_count": 184,
     "metadata": {},
     "output_type": "execute_result"
    }
   ],
   "source": [
    "train[[\"Embarked\",\"Survived\"]].groupby(by=\"Embarked\",as_index=True).mean()"
   ]
  },
  {
   "cell_type": "code",
   "execution_count": 185,
   "metadata": {
    "execution": {
     "iopub.execute_input": "2024-11-25T23:01:10.531504Z",
     "iopub.status.busy": "2024-11-25T23:01:10.531161Z",
     "iopub.status.idle": "2024-11-25T23:01:10.837841Z",
     "shell.execute_reply": "2024-11-25T23:01:10.836872Z",
     "shell.execute_reply.started": "2024-11-25T23:01:10.531471Z"
    }
   },
   "outputs": [
    {
     "data": {
      "image/png": "[encoded data removed]",
      "text/plain": [
       "<Figure size 800x600 with 1 Axes>"
      ]
     },
     "metadata": {},
     "output_type": "display_data"
    }
   ],
   "source": [
    "sns.histplot(data=train, x='Embarked', hue='Survived', multiple='stack', shrink=0.8)\n",
    "plt.show()"
   ]
  },
  {
   "cell_type": "markdown",
   "metadata": {},
   "source": [
    "### Conclusion: Survival by Embarked\n",
    "\n",
    "From the analysis of survival rates based on the embarkation point (`Embarked`), we observe the following:\n",
    "\n",
    "- **C (Cherbourg)** passengers had the highest survival rate at approximately **55.4%**.\n",
    "- **Q (Queenstown)** passengers had a moderate survival rate of about **38.9%**.\n",
    "- **S (Southampton)** passengers had the lowest survival rate at around **33.9%**.\n",
    "\n",
    "These differences in survival rates suggest that the **embarkation point** might have been an important factor in determining survival, with passengers boarding at **Cherbourg** having a higher chance of survival compared to those boarding at **Southampton** or **Queenstown**."
   ]
  },
  {
   "cell_type": "markdown",
   "metadata": {},
   "source": [
    "## 5. Cabin"
   ]
  },
  {
   "cell_type": "code",
   "execution_count": 186,
   "metadata": {
    "execution": {
     "iopub.execute_input": "2024-11-25T23:01:10.839288Z",
     "iopub.status.busy": "2024-11-25T23:01:10.838979Z",
     "iopub.status.idle": "2024-11-25T23:01:10.848781Z",
     "shell.execute_reply": "2024-11-25T23:01:10.847769Z",
     "shell.execute_reply.started": "2024-11-25T23:01:10.839257Z"
    }
   },
   "outputs": [
    {
     "name": "stdout",
     "output_type": "stream",
     "text": [
      "Survival rate of people with cabin: 66.67%\n",
      "Survival rate of people without cabin: 29.99%\n"
     ]
    }
   ],
   "source": [
    "print(f\"Survival rate of people with cabin: {train[train['Cabin'].notna()]['Survived'].mean()*100:.2f}%\")\n",
    "print(f\"Survival rate of people without cabin: {train[train['Cabin'].isna()]['Survived'].mean()*100:.2f}%\")"
   ]
  },
  {
   "cell_type": "code",
   "execution_count": 187,
   "metadata": {
    "execution": {
     "iopub.execute_input": "2024-11-25T23:01:10.850309Z",
     "iopub.status.busy": "2024-11-25T23:01:10.849996Z",
     "iopub.status.idle": "2024-11-25T23:01:10.871361Z",
     "shell.execute_reply": "2024-11-25T23:01:10.870232Z",
     "shell.execute_reply.started": "2024-11-25T23:01:10.850278Z"
    }
   },
   "outputs": [
    {
     "name": "stdout",
     "output_type": "stream",
     "text": [
      "Cabin\n",
      "Z    687\n",
      "C     59\n",
      "B     47\n",
      "D     33\n",
      "E     32\n",
      "A     15\n",
      "F     13\n",
      "G      4\n",
      "T      1\n",
      "Name: count, dtype: int64 \n",
      "\n",
      "Cabin\n",
      "Z    327\n",
      "C     35\n",
      "B     18\n",
      "D     13\n",
      "E      9\n",
      "F      8\n",
      "A      7\n",
      "G      1\n",
      "Name: count, dtype: int64\n"
     ]
    }
   ],
   "source": [
    "print(train[\"Cabin\"].str[0].fillna(\"Z\").value_counts(),\"\\n\")\n",
    "print(test[\"Cabin\"].str[0].fillna(\"Z\").value_counts())"
   ]
  },
  {
   "cell_type": "code",
   "execution_count": 188,
   "metadata": {
    "execution": {
     "iopub.execute_input": "2024-11-25T23:01:10.877528Z",
     "iopub.status.busy": "2024-11-25T23:01:10.877194Z",
     "iopub.status.idle": "2024-11-25T23:01:10.892386Z",
     "shell.execute_reply": "2024-11-25T23:01:10.891336Z",
     "shell.execute_reply.started": "2024-11-25T23:01:10.877495Z"
    }
   },
   "outputs": [
    {
     "data": {
      "text/plain": [
       "Cabin\n",
       "D    0.757576\n",
       "E    0.750000\n",
       "B    0.744681\n",
       "F    0.615385\n",
       "C    0.593220\n",
       "G    0.500000\n",
       "A    0.466667\n",
       "Z    0.299854\n",
       "T    0.000000\n",
       "Name: Survived, dtype: float64"
      ]
     },
     "execution_count": 188,
     "metadata": {},
     "output_type": "execute_result"
    }
   ],
   "source": [
    "train.groupby(train[\"Cabin\"].str[0].fillna(\"Z\"))[\"Survived\"].mean().sort_values(ascending=False)"
   ]
  },
  {
   "cell_type": "code",
   "execution_count": 189,
   "metadata": {
    "execution": {
     "iopub.execute_input": "2024-11-25T23:01:10.894006Z",
     "iopub.status.busy": "2024-11-25T23:01:10.893639Z",
     "iopub.status.idle": "2024-11-25T23:01:11.326307Z",
     "shell.execute_reply": "2024-11-25T23:01:11.325092Z",
     "shell.execute_reply.started": "2024-11-25T23:01:10.893962Z"
    }
   },
   "outputs": [
    {
     "data": {
      "image/png": "[encoded data removed]",
      "text/plain": [
       "<Figure size 800x600 with 1 Axes>"
      ]
     },
     "metadata": {},
     "output_type": "display_data"
    }
   ],
   "source": [
    "sns.histplot(data=train, x=train[\"Cabin\"].str[0].fillna(\"Z\"), hue='Survived', multiple='stack', shrink=0.8, \n",
    "             discrete=True)\n",
    "plt.title(\"Survival by Deck\")\n",
    "plt.show()\n"
   ]
  },
  {
   "cell_type": "markdown",
   "metadata": {},
   "source": [
    "### Conclusion\n",
    "\n",
    "Based on the analysis of survival rates for passengers grouped by the first letter of their cabin (representing the deck), we can observe the following:\n",
    "\n",
    "- **D Deck**: Highest survival rate at **75.8%**.\n",
    "- **E Deck**: Survival rate of **75.0%**.\n",
    "- **B Deck**: Survival rate of **74.5%**.\n",
    "- **F Deck**: Relatively high survival rate at **61.5%**.\n",
    "- **C Deck**: Survival rate of **59.3%**.\n",
    "- **G Deck**: Survival rate of **50.0%**.\n",
    "- **A Deck**: Lower survival rate of **46.7%**.\n",
    "- **Z Deck** (passengers without a cabin): Significantly lower survival rate of **29.9%**.\n",
    "- **T Deck**: Lowest survival rate at **0%**, with only one passenger.\n",
    "\n",
    "#### Additional Insights:\n",
    "- Passengers with a cabin (non-`NaN` values in the `Cabin` column) had a higher survival rate (**66.7%**) compared to those without a cabin (**29.9%**).\n",
    "- Survival rates vary significantly across different decks, with **D**, **E**, and **B** decks having the highest chances of survival.\n",
    "\n",
    "These findings suggest that cabin location or the presence of a cabin might have influenced survival chances, potentially due to factors such as proximity to lifeboats or the sequence of evacuation.\n"
   ]
  },
  {
   "cell_type": "markdown",
   "metadata": {},
   "source": [
    "## 6. Sibsp"
   ]
  },
  {
   "cell_type": "code",
   "execution_count": 190,
   "metadata": {
    "execution": {
     "iopub.execute_input": "2024-11-25T23:01:11.327996Z",
     "iopub.status.busy": "2024-11-25T23:01:11.327644Z",
     "iopub.status.idle": "2024-11-25T23:01:11.340932Z",
     "shell.execute_reply": "2024-11-25T23:01:11.339895Z",
     "shell.execute_reply.started": "2024-11-25T23:01:11.327947Z"
    }
   },
   "outputs": [
    {
     "data": {
      "text/html": [
       "<div>\n",
       "<style scoped>\n",
       "    .dataframe tbody tr th:only-of-type {\n",
       "        vertical-align: middle;\n",
       "    }\n",
       "\n",
       "    .dataframe tbody tr th {\n",
       "        vertical-align: top;\n",
       "    }\n",
       "\n",
       "    .dataframe thead th {\n",
       "        text-align: right;\n",
       "    }\n",
       "</style>\n",
       "<table border=\"1\" class=\"dataframe\">\n",
       "  <thead>\n",
       "    <tr style=\"text-align: right;\">\n",
       "      <th></th>\n",
       "      <th>Survived</th>\n",
       "    </tr>\n",
       "    <tr>\n",
       "      <th>SibSp</th>\n",
       "      <th></th>\n",
       "    </tr>\n",
       "  </thead>\n",
       "  <tbody>\n",
       "    <tr>\n",
       "      <th>1</th>\n",
       "      <td>0.535885</td>\n",
       "    </tr>\n",
       "    <tr>\n",
       "      <th>2</th>\n",
       "      <td>0.464286</td>\n",
       "    </tr>\n",
       "    <tr>\n",
       "      <th>0</th>\n",
       "      <td>0.345395</td>\n",
       "    </tr>\n",
       "    <tr>\n",
       "      <th>3</th>\n",
       "      <td>0.250000</td>\n",
       "    </tr>\n",
       "    <tr>\n",
       "      <th>4</th>\n",
       "      <td>0.166667</td>\n",
       "    </tr>\n",
       "    <tr>\n",
       "      <th>5</th>\n",
       "      <td>0.000000</td>\n",
       "    </tr>\n",
       "    <tr>\n",
       "      <th>8</th>\n",
       "      <td>0.000000</td>\n",
       "    </tr>\n",
       "  </tbody>\n",
       "</table>\n",
       "</div>"
      ],
      "text/plain": [
       "       Survived\n",
       "SibSp          \n",
       "1      0.535885\n",
       "2      0.464286\n",
       "0      0.345395\n",
       "3      0.250000\n",
       "4      0.166667\n",
       "5      0.000000\n",
       "8      0.000000"
      ]
     },
     "execution_count": 190,
     "metadata": {},
     "output_type": "execute_result"
    }
   ],
   "source": [
    "train[[\"SibSp\",\"Survived\"]].groupby(by=\"SibSp\",as_index=True).mean().sort_values(by=\"Survived\",ascending = False)"
   ]
  },
  {
   "cell_type": "code",
   "execution_count": 191,
   "metadata": {
    "execution": {
     "iopub.execute_input": "2024-11-25T23:01:11.343084Z",
     "iopub.status.busy": "2024-11-25T23:01:11.342266Z",
     "iopub.status.idle": "2024-11-25T23:01:11.657220Z",
     "shell.execute_reply": "2024-11-25T23:01:11.656160Z",
     "shell.execute_reply.started": "2024-11-25T23:01:11.343036Z"
    }
   },
   "outputs": [
    {
     "data": {
      "image/png": "[encoded data removed]",
      "text/plain": [
       "<Figure size 800x600 with 1 Axes>"
      ]
     },
     "metadata": {},
     "output_type": "display_data"
    }
   ],
   "source": [
    "sns.barplot(x='SibSp', y='Survived', data=train, ci=None)\n",
    "plt.title(\"Survival Rate by SibSp\")\n",
    "plt.xlabel(\"Number of Siblings/Spouses\")\n",
    "plt.ylabel(\"Survival Rate\")\n",
    "plt.show()"
   ]
  },
  {
   "cell_type": "markdown",
   "metadata": {},
   "source": [
    "### Conclusion\n",
    "\n",
    "From the analysis of survival rates by the number of siblings/spouses a passenger had onboard, the following trends emerge:\n",
    "\n",
    "- Passengers with **1 sibling/spouse** had the highest survival rate at **53.6%**.\n",
    "- Those with **2 siblings/spouses** had a survival rate of **46.4%**, which is slightly lower but still relatively high.\n",
    "- Passengers traveling **alone (0 siblings/spouses)** had a survival rate of **34.5%**.\n",
    "- Survival rates drop significantly as the number of siblings/spouses increases:\n",
    "  - **3 siblings/spouses**: Survival rate of **25.0%**.\n",
    "  - **4 siblings/spouses**: Survival rate of **16.7%**.\n",
    "  - **5 siblings/spouses**: Survival rate of **0%**.\n",
    "  - **8 siblings/spouses**: Survival rate of **0%**.\n",
    "\n",
    "### Key Insights:\n",
    "1. Having **1 or 2 siblings/spouses onboard** was associated with higher survival rates.\n",
    "2. Passengers traveling **alone** had a moderate survival rate, but their chances were notably lower than those with 1 or 2 family members.\n",
    "3. Passengers with **large families (3 or more siblings/spouses)** had significantly lower survival rates, possibly due to challenges in coordinating or assisting larger groups during evacuation.\n",
    "\n",
    "These observations suggest that smaller family groups were better able to navigate survival efforts, while larger families faced greater difficulties.\n"
   ]
  },
  {
   "cell_type": "markdown",
   "metadata": {},
   "source": [
    "## 7. Parch"
   ]
  },
  {
   "cell_type": "code",
   "execution_count": 192,
   "metadata": {
    "execution": {
     "iopub.execute_input": "2024-11-25T23:01:11.659259Z",
     "iopub.status.busy": "2024-11-25T23:01:11.658790Z",
     "iopub.status.idle": "2024-11-25T23:01:11.672306Z",
     "shell.execute_reply": "2024-11-25T23:01:11.671131Z",
     "shell.execute_reply.started": "2024-11-25T23:01:11.659209Z"
    }
   },
   "outputs": [
    {
     "data": {
      "text/html": [
       "<div>\n",
       "<style scoped>\n",
       "    .dataframe tbody tr th:only-of-type {\n",
       "        vertical-align: middle;\n",
       "    }\n",
       "\n",
       "    .dataframe tbody tr th {\n",
       "        vertical-align: top;\n",
       "    }\n",
       "\n",
       "    .dataframe thead th {\n",
       "        text-align: right;\n",
       "    }\n",
       "</style>\n",
       "<table border=\"1\" class=\"dataframe\">\n",
       "  <thead>\n",
       "    <tr style=\"text-align: right;\">\n",
       "      <th></th>\n",
       "      <th>Survived</th>\n",
       "    </tr>\n",
       "    <tr>\n",
       "      <th>Parch</th>\n",
       "      <th></th>\n",
       "    </tr>\n",
       "  </thead>\n",
       "  <tbody>\n",
       "    <tr>\n",
       "      <th>3</th>\n",
       "      <td>0.600000</td>\n",
       "    </tr>\n",
       "    <tr>\n",
       "      <th>1</th>\n",
       "      <td>0.550847</td>\n",
       "    </tr>\n",
       "    <tr>\n",
       "      <th>2</th>\n",
       "      <td>0.500000</td>\n",
       "    </tr>\n",
       "    <tr>\n",
       "      <th>0</th>\n",
       "      <td>0.343658</td>\n",
       "    </tr>\n",
       "    <tr>\n",
       "      <th>5</th>\n",
       "      <td>0.200000</td>\n",
       "    </tr>\n",
       "    <tr>\n",
       "      <th>4</th>\n",
       "      <td>0.000000</td>\n",
       "    </tr>\n",
       "    <tr>\n",
       "      <th>6</th>\n",
       "      <td>0.000000</td>\n",
       "    </tr>\n",
       "  </tbody>\n",
       "</table>\n",
       "</div>"
      ],
      "text/plain": [
       "       Survived\n",
       "Parch          \n",
       "3      0.600000\n",
       "1      0.550847\n",
       "2      0.500000\n",
       "0      0.343658\n",
       "5      0.200000\n",
       "4      0.000000\n",
       "6      0.000000"
      ]
     },
     "execution_count": 192,
     "metadata": {},
     "output_type": "execute_result"
    }
   ],
   "source": [
    "train[[\"Parch\",\"Survived\"]].groupby(by=\"Parch\",as_index=True).mean().sort_values(by=\"Survived\",ascending = False)"
   ]
  },
  {
   "cell_type": "code",
   "execution_count": 193,
   "metadata": {
    "execution": {
     "iopub.execute_input": "2024-11-25T23:01:11.673914Z",
     "iopub.status.busy": "2024-11-25T23:01:11.673580Z",
     "iopub.status.idle": "2024-11-25T23:01:12.001763Z",
     "shell.execute_reply": "2024-11-25T23:01:12.000878Z",
     "shell.execute_reply.started": "2024-11-25T23:01:11.673879Z"
    }
   },
   "outputs": [
    {
     "data": {
      "image/png": "[encoded data removed]",
      "text/plain": [
       "<Figure size 800x600 with 1 Axes>"
      ]
     },
     "metadata": {},
     "output_type": "display_data"
    }
   ],
   "source": [
    "sns.barplot(x='Parch', y='Survived', data=train, ci=None)\n",
    "plt.title(\"Survival Rate by Parch\")\n",
    "plt.xlabel(\"Number of Parents/Children\")\n",
    "plt.ylabel(\"Survival Rate\")\n",
    "plt.show()"
   ]
  },
  {
   "cell_type": "markdown",
   "metadata": {},
   "source": [
    "### Conclusion: \n",
    "\n",
    "- Passengers with **1 to 3 parents/children** had higher survival rates, peaking at **60.0%** for those with **3 parents/children**.\n",
    "- Those traveling **alone (Parch = 0)** had a lower survival rate of **34.4%**.\n",
    "- Passengers with **4 or more parents/children** had drastically lower survival rates, with **no survival for 4 or 6 parents/children**.\n",
    "\n",
    "### Key Insight\n",
    "Similar to the `SibSp` analysis, smaller family groups had better survival rates, while being alone or in very large families reduced survival chances.\n",
    "\n",
    "### Future Steps \n",
    "**1.Feature Engineering** Combining `SibSp` and `Parch` into a single feature like `FamilySize` could better capture the impact of family structure on survival and improve model performance.\n"
   ]
  },
  {
   "cell_type": "markdown",
   "metadata": {},
   "source": [
    "## 8. Age"
   ]
  },
  {
   "cell_type": "code",
   "execution_count": 194,
   "metadata": {
    "execution": {
     "iopub.execute_input": "2024-11-25T23:01:12.003187Z",
     "iopub.status.busy": "2024-11-25T23:01:12.002882Z",
     "iopub.status.idle": "2024-11-25T23:01:12.010247Z",
     "shell.execute_reply": "2024-11-25T23:01:12.009242Z",
     "shell.execute_reply.started": "2024-11-25T23:01:12.003158Z"
    }
   },
   "outputs": [
    {
     "data": {
      "text/plain": [
       "177"
      ]
     },
     "execution_count": 194,
     "metadata": {},
     "output_type": "execute_result"
    }
   ],
   "source": [
    "train.Age.isna().sum()\n"
   ]
  },
  {
   "cell_type": "code",
   "execution_count": 195,
   "metadata": {
    "execution": {
     "iopub.execute_input": "2024-11-25T23:01:12.011548Z",
     "iopub.status.busy": "2024-11-25T23:01:12.011280Z",
     "iopub.status.idle": "2024-11-25T23:01:12.023508Z",
     "shell.execute_reply": "2024-11-25T23:01:12.022484Z",
     "shell.execute_reply.started": "2024-11-25T23:01:12.011521Z"
    }
   },
   "outputs": [
    {
     "data": {
      "text/plain": [
       "86"
      ]
     },
     "execution_count": 195,
     "metadata": {},
     "output_type": "execute_result"
    }
   ],
   "source": [
    "test.Age.isna().sum()"
   ]
  },
  {
   "cell_type": "code",
   "execution_count": 196,
   "metadata": {
    "execution": {
     "iopub.execute_input": "2024-11-25T23:01:12.025056Z",
     "iopub.status.busy": "2024-11-25T23:01:12.024714Z",
     "iopub.status.idle": "2024-11-25T23:01:13.309714Z",
     "shell.execute_reply": "2024-11-25T23:01:13.308645Z",
     "shell.execute_reply.started": "2024-11-25T23:01:12.025025Z"
    }
   },
   "outputs": [
    {
     "data": {
      "image/png": "[encoded data removed]",
      "text/plain": [
       "<Figure size 1800x600 with 2 Axes>"
      ]
     },
     "metadata": {},
     "output_type": "display_data"
    }
   ],
   "source": [
    "fig, axs = plt.subplots(1, 2, figsize=(18, 6))\n",
    "\n",
    "plt.subplot(121)\n",
    "sns.histplot(train,x=\"Age\",kde=True,color=\"g\",bins=40)\n",
    "plt.title(\"Age Distribution\")\n",
    "\n",
    "plt.subplot(122)\n",
    "sns.histplot(train,x=\"Age\",kde=True,hue=\"Survived\",bins=20)\n",
    "plt.title(\"Age Distribution with respect to surivival\")\n",
    "\n",
    "plt.tight_layout()\n",
    "plt.show()"
   ]
  },
  {
   "cell_type": "code",
   "execution_count": 197,
   "metadata": {
    "execution": {
     "iopub.execute_input": "2024-11-25T23:01:13.311411Z",
     "iopub.status.busy": "2024-11-25T23:01:13.311004Z",
     "iopub.status.idle": "2024-11-25T23:01:13.322217Z",
     "shell.execute_reply": "2024-11-25T23:01:13.321233Z",
     "shell.execute_reply.started": "2024-11-25T23:01:13.311377Z"
    }
   },
   "outputs": [
    {
     "data": {
      "text/plain": [
       "Pclass        -0.369226\n",
       "SibSp         -0.308247\n",
       "Parch         -0.189119\n",
       "Survived      -0.077221\n",
       "PassengerId    0.036847\n",
       "Fare           0.096067\n",
       "Age            1.000000\n",
       "Name: Age, dtype: float64"
      ]
     },
     "execution_count": 197,
     "metadata": {},
     "output_type": "execute_result"
    }
   ],
   "source": [
    "train.corr(numeric_only=True)[\"Age\"].sort_values()"
   ]
  },
  {
   "cell_type": "markdown",
   "metadata": {},
   "source": [
    "### Conclusion:\n",
    "\n",
    "### Missing Values\n",
    "- **Age** has **177 missing values** in the training set and **86 missing values** in the test set. \n",
    "\n",
    "### Key Insight\n",
    "1. The distribution of `Age` is approximately normal but skewed slightly toward younger passengers.\n",
    "2. Survival rates vary significantly across different age groups, as shown in the second plot:\n",
    "   - Younger passengers tend to have higher survival rates.\n",
    "   - Older passengers have lower survival rates but there's more records.\n",
    "\n",
    "### Future Steps\n",
    "1. **Imputation**: Missing values in the `Age` column will be imputed to ensure the dataset is complete.\n",
    "2. **Feature Engineering**: Age could be categorized into subsets to capture its relationship with survival.\n"
   ]
  },
  {
   "cell_type": "markdown",
   "metadata": {},
   "source": [
    "## 9. Fare "
   ]
  },
  {
   "cell_type": "code",
   "execution_count": 198,
   "metadata": {
    "execution": {
     "iopub.execute_input": "2024-11-25T23:01:13.323748Z",
     "iopub.status.busy": "2024-11-25T23:01:13.323425Z",
     "iopub.status.idle": "2024-11-25T23:01:13.335491Z",
     "shell.execute_reply": "2024-11-25T23:01:13.334433Z",
     "shell.execute_reply.started": "2024-11-25T23:01:13.323718Z"
    }
   },
   "outputs": [
    {
     "data": {
      "text/plain": [
       "0"
      ]
     },
     "execution_count": 198,
     "metadata": {},
     "output_type": "execute_result"
    }
   ],
   "source": [
    "train.Fare.isna().sum()"
   ]
  },
  {
   "cell_type": "code",
   "execution_count": 199,
   "metadata": {
    "execution": {
     "iopub.execute_input": "2024-11-25T23:01:13.337731Z",
     "iopub.status.busy": "2024-11-25T23:01:13.336998Z",
     "iopub.status.idle": "2024-11-25T23:01:13.345680Z",
     "shell.execute_reply": "2024-11-25T23:01:13.344696Z",
     "shell.execute_reply.started": "2024-11-25T23:01:13.337680Z"
    }
   },
   "outputs": [
    {
     "data": {
      "text/plain": [
       "1"
      ]
     },
     "execution_count": 199,
     "metadata": {},
     "output_type": "execute_result"
    }
   ],
   "source": [
    "test.Fare.isna().sum()"
   ]
  },
  {
   "cell_type": "markdown",
   "metadata": {},
   "source": [
    "-In the next steps we can impute that missing value in simple way like **mean()** because there is only one missing record"
   ]
  },
  {
   "cell_type": "code",
   "execution_count": 200,
   "metadata": {
    "execution": {
     "iopub.execute_input": "2024-11-25T23:01:13.347126Z",
     "iopub.status.busy": "2024-11-25T23:01:13.346806Z",
     "iopub.status.idle": "2024-11-25T23:01:14.818513Z",
     "shell.execute_reply": "2024-11-25T23:01:14.817450Z",
     "shell.execute_reply.started": "2024-11-25T23:01:13.347093Z"
    }
   },
   "outputs": [
    {
     "data": {
      "image/png": "[encoded data removed]",
      "text/plain": [
       "<Figure size 1800x600 with 2 Axes>"
      ]
     },
     "metadata": {},
     "output_type": "display_data"
    }
   ],
   "source": [
    "fig, axs = plt.subplots(1, 2, figsize=(18, 6))\n",
    "\n",
    "plt.subplot(121)\n",
    "sns.histplot(train,x=\"Fare\",kde=True,color=\"g\",bins=40)\n",
    "plt.title(\"Fare Distribution\")\n",
    "\n",
    "plt.subplot(122)\n",
    "sns.histplot(train,x=\"Fare\",kde=True,hue=\"Survived\",bins=20)\n",
    "plt.title(\"Fare Distribution with respect to surivival\")\n",
    "\n",
    "plt.tight_layout()\n",
    "plt.show()"
   ]
  },
  {
   "cell_type": "markdown",
   "metadata": {},
   "source": [
    "### Conclusion:\n",
    "\n",
    "- **Fare** values are heavily skewed, with most passengers paying relatively low fares, as shown in the distribution plot.\n",
    "- **Higher fares** are generally associated with a **higher survival rate**.\n",
    "\n",
    "### Key Insight\n",
    "Fare appears to be a strong indicator of survival, possibly reflecting the passenger's class and access to better safety measures during the disaster.\n",
    "\n",
    "### Future Steps\n",
    "- **Feature Engineering**: Divide `Fare` into subsets or bins (e.g., low, medium, high) to better capture the relationship between fare and survival in th\n",
    "he model.\n"
   ]
  },
  {
   "cell_type": "markdown",
   "metadata": {},
   "source": [
    "## 10. Name"
   ]
  },
  {
   "cell_type": "code",
   "execution_count": 201,
   "metadata": {
    "execution": {
     "iopub.execute_input": "2024-11-25T23:01:14.820088Z",
     "iopub.status.busy": "2024-11-25T23:01:14.819769Z",
     "iopub.status.idle": "2024-11-25T23:01:14.827340Z",
     "shell.execute_reply": "2024-11-25T23:01:14.826316Z",
     "shell.execute_reply.started": "2024-11-25T23:01:14.820056Z"
    }
   },
   "outputs": [
    {
     "data": {
      "text/plain": [
       "0                               Braund, Mr. Owen Harris\n",
       "1     Cumings, Mrs. John Bradley (Florence Briggs Th...\n",
       "2                                Heikkinen, Miss. Laina\n",
       "3          Futrelle, Mrs. Jacques Heath (Lily May Peel)\n",
       "4                              Allen, Mr. William Henry\n",
       "5                                      Moran, Mr. James\n",
       "6                               McCarthy, Mr. Timothy J\n",
       "7                        Palsson, Master. Gosta Leonard\n",
       "8     Johnson, Mrs. Oscar W (Elisabeth Vilhelmina Berg)\n",
       "9                   Nasser, Mrs. Nicholas (Adele Achem)\n",
       "10                      Sandstrom, Miss. Marguerite Rut\n",
       "11                             Bonnell, Miss. Elizabeth\n",
       "12                       Saundercock, Mr. William Henry\n",
       "13                          Andersson, Mr. Anders Johan\n",
       "14                 Vestrom, Miss. Hulda Amanda Adolfina\n",
       "Name: Name, dtype: object"
      ]
     },
     "execution_count": 201,
     "metadata": {},
     "output_type": "execute_result"
    }
   ],
   "source": [
    "train[\"Name\"].head(15)"
   ]
  },
  {
   "cell_type": "code",
   "execution_count": 202,
   "metadata": {
    "execution": {
     "iopub.execute_input": "2024-11-25T23:01:14.828878Z",
     "iopub.status.busy": "2024-11-25T23:01:14.828532Z",
     "iopub.status.idle": "2024-11-25T23:01:14.846705Z",
     "shell.execute_reply": "2024-11-25T23:01:14.845633Z",
     "shell.execute_reply.started": "2024-11-25T23:01:14.828846Z"
    }
   },
   "outputs": [
    {
     "name": "stdout",
     "output_type": "stream",
     "text": [
      "Name\n",
      "Mr          517\n",
      "Miss        182\n",
      "Mrs         125\n",
      "Master       40\n",
      "Dr            7\n",
      "Rev           6\n",
      "Mlle          2\n",
      "Major         2\n",
      "Col           2\n",
      "Countess      1\n",
      "Capt          1\n",
      "Ms            1\n",
      "Sir           1\n",
      "Lady          1\n",
      "Mme           1\n",
      "Don           1\n",
      "Jonkheer      1\n",
      "Name: count, dtype: int64\n",
      "Name\n",
      "Mr        240\n",
      "Miss       78\n",
      "Mrs        72\n",
      "Master     21\n",
      "Col         2\n",
      "Rev         2\n",
      "Ms          1\n",
      "Dr          1\n",
      "Dona        1\n",
      "Name: count, dtype: int64\n"
     ]
    }
   ],
   "source": [
    "combine = [train,test]\n",
    "for df in combine:\n",
    "     print(df.Name.str.extract(' ([A-Za-z]+)\\.', expand=False).value_counts())\n"
   ]
  },
  {
   "cell_type": "markdown",
   "metadata": {},
   "source": [
    "### Conclusion\n",
    "\n",
    "- We extracted **titles** from passenger names, revealing a variety of titles such as `Mr`, `Miss`, `Mrs`, `Master`, and less common ones like `Countess`, `Sir`, and `Lady`.\n",
    "- The most frequent titles include:\n",
    "  - `Mr`: 517 occurrences in the training set, 240 in the test set.\n",
    "  - `Miss`: 182 occurrences in the training set, 78 in the test set.\n",
    "  - `Mrs`: 125 occurrences in the training set, 72 in the test set.\n",
    "  - `Master`: 40 occurrences in the training set, 21 in the test set.\n",
    "\n",
    "### Future Steps\n",
    "- **Title Mapping**: Group titles based on their occurrences to simplify analysis.\n",
    "- **Survival Rate Analysis**: Check if survival rates differ significantly by title, which could help identify its importance as a feature.\n"
   ]
  },
  {
   "cell_type": "markdown",
   "metadata": {},
   "source": [
    "# Imputing Missing Values"
   ]
  },
  {
   "cell_type": "markdown",
   "metadata": {},
   "source": [
    "## 1. Imputing Nan's in Age\n"
   ]
  },
  {
   "cell_type": "code",
   "execution_count": 203,
   "metadata": {
    "execution": {
     "iopub.execute_input": "2024-11-25T23:01:14.848312Z",
     "iopub.status.busy": "2024-11-25T23:01:14.848002Z",
     "iopub.status.idle": "2024-11-25T23:01:14.876695Z",
     "shell.execute_reply": "2024-11-25T23:01:14.875705Z",
     "shell.execute_reply.started": "2024-11-25T23:01:14.848281Z"
    }
   },
   "outputs": [
    {
     "data": {
      "text/html": [
       "<style>#sk-container-id-3 {color: black;background-color: white;}#sk-container-id-3 pre{padding: 0;}#sk-container-id-3 div.sk-toggleable {background-color: white;}#sk-container-id-3 label.sk-toggleable__label {cursor: pointer;display: block;width: 100%;margin-bottom: 0;padding: 0.3em;box-sizing: border-box;text-align: center;}#sk-container-id-3 label.sk-toggleable__label-arrow:before {content: \"▸\";float: left;margin-right: 0.25em;color: #696969;}#sk-container-id-3 label.sk-toggleable__label-arrow:hover:before {color: black;}#sk-container-id-3 div.sk-estimator:hover label.sk-toggleable__label-arrow:before {color: black;}#sk-container-id-3 div.sk-toggleable__content {max-height: 0;max-width: 0;overflow: hidden;text-align: left;background-color: #f0f8ff;}#sk-container-id-3 div.sk-toggleable__content pre {margin: 0.2em;color: black;border-radius: 0.25em;background-color: #f0f8ff;}#sk-container-id-3 input.sk-toggleable__control:checked~div.sk-toggleable__content {max-height: 200px;max-width: 100%;overflow: auto;}#sk-container-id-3 input.sk-toggleable__control:checked~label.sk-toggleable__label-arrow:before {content: \"▾\";}#sk-container-id-3 div.sk-estimator input.sk-toggleable__control:checked~label.sk-toggleable__label {background-color: #d4ebff;}#sk-container-id-3 div.sk-label input.sk-toggleable__control:checked~label.sk-toggleable__label {background-color: #d4ebff;}#sk-container-id-3 input.sk-hidden--visually {border: 0;clip: rect(1px 1px 1px 1px);clip: rect(1px, 1px, 1px, 1px);height: 1px;margin: -1px;overflow: hidden;padding: 0;position: absolute;width: 1px;}#sk-container-id-3 div.sk-estimator {font-family: monospace;background-color: #f0f8ff;border: 1px dotted black;border-radius: 0.25em;box-sizing: border-box;margin-bottom: 0.5em;}#sk-container-id-3 div.sk-estimator:hover {background-color: #d4ebff;}#sk-container-id-3 div.sk-parallel-item::after {content: \"\";width: 100%;border-bottom: 1px solid gray;flex-grow: 1;}#sk-container-id-3 div.sk-label:hover label.sk-toggleable__label {background-color: #d4ebff;}#sk-container-id-3 div.sk-serial::before {content: \"\";position: absolute;border-left: 1px solid gray;box-sizing: border-box;top: 0;bottom: 0;left: 50%;z-index: 0;}#sk-container-id-3 div.sk-serial {display: flex;flex-direction: column;align-items: center;background-color: white;padding-right: 0.2em;padding-left: 0.2em;position: relative;}#sk-container-id-3 div.sk-item {position: relative;z-index: 1;}#sk-container-id-3 div.sk-parallel {display: flex;align-items: stretch;justify-content: center;background-color: white;position: relative;}#sk-container-id-3 div.sk-item::before, #sk-container-id-3 div.sk-parallel-item::before {content: \"\";position: absolute;border-left: 1px solid gray;box-sizing: border-box;top: 0;bottom: 0;left: 50%;z-index: -1;}#sk-container-id-3 div.sk-parallel-item {display: flex;flex-direction: column;z-index: 1;position: relative;background-color: white;}#sk-container-id-3 div.sk-parallel-item:first-child::after {align-self: flex-end;width: 50%;}#sk-container-id-3 div.sk-parallel-item:last-child::after {align-self: flex-start;width: 50%;}#sk-container-id-3 div.sk-parallel-item:only-child::after {width: 0;}#sk-container-id-3 div.sk-dashed-wrapped {border: 1px dashed gray;margin: 0 0.4em 0.5em 0.4em;box-sizing: border-box;padding-bottom: 0.4em;background-color: white;}#sk-container-id-3 div.sk-label label {font-family: monospace;font-weight: bold;display: inline-block;line-height: 1.2em;}#sk-container-id-3 div.sk-label-container {text-align: center;}#sk-container-id-3 div.sk-container {/* jupyter's `normalize.less` sets `[hidden] { display: none; }` but bootstrap.min.css set `[hidden] { display: none !important; }` so we also need the `!important` here to be able to override the default hidden behavior on the sphinx rendered scikit-learn.org. See: https://github.com/scikit-learn/scikit-learn/issues/21755 */display: inline-block !important;position: relative;}#sk-container-id-3 div.sk-text-repr-fallback {display: none;}</style><div id=\"sk-container-id-3\" class=\"sk-top-container\"><div class=\"sk-text-repr-fallback\"><pre>IterativeImputer(estimator=KNeighborsRegressor())</pre><b>In a Jupyter environment, please rerun this cell to show the HTML representation or trust the notebook. <br />On GitHub, the HTML representation is unable to render, please try loading this page with nbviewer.org.</b></div><div class=\"sk-container\" hidden><div class=\"sk-item sk-dashed-wrapped\"><div class=\"sk-label-container\"><div class=\"sk-label sk-toggleable\"><input class=\"sk-toggleable__control sk-hidden--visually\" id=\"sk-estimator-id-7\" type=\"checkbox\" ><label for=\"sk-estimator-id-7\" class=\"sk-toggleable__label sk-toggleable__label-arrow\">IterativeImputer</label><div class=\"sk-toggleable__content\"><pre>IterativeImputer(estimator=KNeighborsRegressor())</pre></div></div></div><div class=\"sk-parallel\"><div class=\"sk-parallel-item\"><div class=\"sk-item\"><div class=\"sk-label-container\"><div class=\"sk-label sk-toggleable\"><input class=\"sk-toggleable__control sk-hidden--visually\" id=\"sk-estimator-id-8\" type=\"checkbox\" ><label for=\"sk-estimator-id-8\" class=\"sk-toggleable__label sk-toggleable__label-arrow\">estimator: KNeighborsRegressor</label><div class=\"sk-toggleable__content\"><pre>KNeighborsRegressor()</pre></div></div></div><div class=\"sk-serial\"><div class=\"sk-item\"><div class=\"sk-estimator sk-toggleable\"><input class=\"sk-toggleable__control sk-hidden--visually\" id=\"sk-estimator-id-9\" type=\"checkbox\" ><label for=\"sk-estimator-id-9\" class=\"sk-toggleable__label sk-toggleable__label-arrow\">KNeighborsRegressor</label><div class=\"sk-toggleable__content\"><pre>KNeighborsRegressor()</pre></div></div></div></div></div></div></div></div></div></div>"
      ],
      "text/plain": [
       "IterativeImputer(estimator=KNeighborsRegressor())"
      ]
     },
     "execution_count": 203,
     "metadata": {},
     "output_type": "execute_result"
    }
   ],
   "source": [
    "features = [\"Pclass\", \"SibSp\", \"Parch\",\"Age\"] \n",
    "combined = pd.concat([train[features], test[features]], axis=0)\n",
    "imputer = IterativeImputer(max_iter=10,estimator=KNeighborsRegressor(n_neighbors=5))\n",
    "imputer.fit(combined)"
   ]
  },
  {
   "cell_type": "code",
   "execution_count": 204,
   "metadata": {
    "execution": {
     "iopub.execute_input": "2024-11-25T23:01:14.878473Z",
     "iopub.status.busy": "2024-11-25T23:01:14.878060Z",
     "iopub.status.idle": "2024-11-25T23:01:14.895941Z",
     "shell.execute_reply": "2024-11-25T23:01:14.894778Z",
     "shell.execute_reply.started": "2024-11-25T23:01:14.878429Z"
    }
   },
   "outputs": [],
   "source": [
    "train[features] = imputer.transform(train[features])\n",
    "test[features] = imputer.transform(test[features])"
   ]
  },
  {
   "cell_type": "code",
   "execution_count": 205,
   "metadata": {
    "execution": {
     "iopub.execute_input": "2024-11-25T23:01:14.897429Z",
     "iopub.status.busy": "2024-11-25T23:01:14.897121Z",
     "iopub.status.idle": "2024-11-25T23:01:14.907612Z",
     "shell.execute_reply": "2024-11-25T23:01:14.906620Z",
     "shell.execute_reply.started": "2024-11-25T23:01:14.897397Z"
    }
   },
   "outputs": [
    {
     "name": "stdout",
     "output_type": "stream",
     "text": [
      "PassengerId      0\n",
      "Survived         0\n",
      "Pclass           0\n",
      "Name             0\n",
      "Sex              0\n",
      "Age              0\n",
      "SibSp            0\n",
      "Parch            0\n",
      "Ticket           0\n",
      "Fare             0\n",
      "Cabin          687\n",
      "Embarked         0\n",
      "dtype: int64 \n",
      "\n",
      "PassengerId      0\n",
      "Pclass           0\n",
      "Name             0\n",
      "Sex              0\n",
      "Age              0\n",
      "SibSp            0\n",
      "Parch            0\n",
      "Ticket           0\n",
      "Fare             1\n",
      "Cabin          327\n",
      "Embarked         0\n",
      "dtype: int64\n"
     ]
    }
   ],
   "source": [
    "print(train.isna().sum(),\"\\n\")\n",
    "print(test.isna().sum())"
   ]
  },
  {
   "cell_type": "markdown",
   "metadata": {},
   "source": [
    "- Used **Iterative Imputer** to impute missing values for `Age`.\n",
    "- Correlated features such as `Pclass`, `SibSp`, `Parch`, were included in the imputation process to improve the accuracy of missing `Age` values.\n",
    "- Successfully filled all missing values in these features for both training and test datasets.\n",
    "- Remaining missing values are only in the `Cabin` feature, which will be addressed in subsequent steps.ps.\n"
   ]
  },
  {
   "cell_type": "markdown",
   "metadata": {},
   "source": [
    "## 2. Imputing Nan's in Cabin"
   ]
  },
  {
   "cell_type": "code",
   "execution_count": 206,
   "metadata": {
    "execution": {
     "iopub.execute_input": "2024-11-25T23:01:14.909299Z",
     "iopub.status.busy": "2024-11-25T23:01:14.908934Z",
     "iopub.status.idle": "2024-11-25T23:01:14.923016Z",
     "shell.execute_reply": "2024-11-25T23:01:14.921936Z",
     "shell.execute_reply.started": "2024-11-25T23:01:14.909266Z"
    }
   },
   "outputs": [
    {
     "name": "stdout",
     "output_type": "stream",
     "text": [
      "PassengerId    0\n",
      "Survived       0\n",
      "Pclass         0\n",
      "Name           0\n",
      "Sex            0\n",
      "Age            0\n",
      "SibSp          0\n",
      "Parch          0\n",
      "Ticket         0\n",
      "Fare           0\n",
      "Cabin          0\n",
      "Embarked       0\n",
      "dtype: int64 \n",
      "\n",
      "PassengerId    0\n",
      "Pclass         0\n",
      "Name           0\n",
      "Sex            0\n",
      "Age            0\n",
      "SibSp          0\n",
      "Parch          0\n",
      "Ticket         0\n",
      "Fare           1\n",
      "Cabin          0\n",
      "Embarked       0\n",
      "dtype: int64\n"
     ]
    }
   ],
   "source": [
    "train[\"Cabin\"].fillna(\"Z\",inplace=True)\n",
    "test[\"Cabin\"].fillna(\"Z\",inplace=True)\n",
    "print(train.isna().sum(),\"\\n\")\n",
    "print(test.isna().sum())"
   ]
  },
  {
   "cell_type": "markdown",
   "metadata": {},
   "source": [
    "## 3. Imputing Nan's in Fare"
   ]
  },
  {
   "cell_type": "code",
   "execution_count": 207,
   "metadata": {
    "execution": {
     "iopub.execute_input": "2024-11-25T23:01:14.924229Z",
     "iopub.status.busy": "2024-11-25T23:01:14.923923Z",
     "iopub.status.idle": "2024-11-25T23:01:14.935460Z",
     "shell.execute_reply": "2024-11-25T23:01:14.934400Z",
     "shell.execute_reply.started": "2024-11-25T23:01:14.924200Z"
    }
   },
   "outputs": [],
   "source": [
    "test.loc[test[\"Fare\"].isna(), \"Fare\"] = test[\"Fare\"].median()"
   ]
  },
  {
   "cell_type": "code",
   "execution_count": 208,
   "metadata": {
    "execution": {
     "iopub.execute_input": "2024-11-25T23:01:14.936930Z",
     "iopub.status.busy": "2024-11-25T23:01:14.936639Z",
     "iopub.status.idle": "2024-11-25T23:01:14.952439Z",
     "shell.execute_reply": "2024-11-25T23:01:14.951259Z",
     "shell.execute_reply.started": "2024-11-25T23:01:14.936901Z"
    }
   },
   "outputs": [
    {
     "data": {
      "text/plain": [
       "PassengerId    0\n",
       "Pclass         0\n",
       "Name           0\n",
       "Sex            0\n",
       "Age            0\n",
       "SibSp          0\n",
       "Parch          0\n",
       "Ticket         0\n",
       "Fare           0\n",
       "Cabin          0\n",
       "Embarked       0\n",
       "dtype: int64"
      ]
     },
     "execution_count": 208,
     "metadata": {},
     "output_type": "execute_result"
    }
   ],
   "source": [
    "test.isna().sum()"
   ]
  },
  {
   "cell_type": "markdown",
   "metadata": {},
   "source": [
    "# Feature Engineering"
   ]
  },
  {
   "cell_type": "markdown",
   "metadata": {},
   "source": [
    "## 1. Deck"
   ]
  },
  {
   "cell_type": "markdown",
   "metadata": {},
   "source": [
    "Let's extract the first letter of the Cabin column in the training and test dataset to create the Deck column."
   ]
  },
  {
   "cell_type": "code",
   "execution_count": 209,
   "metadata": {
    "execution": {
     "iopub.execute_input": "2024-11-25T23:01:14.954373Z",
     "iopub.status.busy": "2024-11-25T23:01:14.954062Z",
     "iopub.status.idle": "2024-11-25T23:01:14.965065Z",
     "shell.execute_reply": "2024-11-25T23:01:14.964057Z",
     "shell.execute_reply.started": "2024-11-25T23:01:14.954337Z"
    }
   },
   "outputs": [],
   "source": [
    "train[\"Deck\"] = train[\"Cabin\"].str[0]\n",
    "test[\"Deck\"] = test[\"Cabin\"].str[0]"
   ]
  },
  {
   "cell_type": "code",
   "execution_count": 210,
   "metadata": {
    "execution": {
     "iopub.execute_input": "2024-11-25T23:01:14.966801Z",
     "iopub.status.busy": "2024-11-25T23:01:14.966348Z",
     "iopub.status.idle": "2024-11-25T23:01:14.992049Z",
     "shell.execute_reply": "2024-11-25T23:01:14.991114Z",
     "shell.execute_reply.started": "2024-11-25T23:01:14.966743Z"
    }
   },
   "outputs": [
    {
     "data": {
      "text/html": [
       "<div>\n",
       "<style scoped>\n",
       "    .dataframe tbody tr th:only-of-type {\n",
       "        vertical-align: middle;\n",
       "    }\n",
       "\n",
       "    .dataframe tbody tr th {\n",
       "        vertical-align: top;\n",
       "    }\n",
       "\n",
       "    .dataframe thead th {\n",
       "        text-align: right;\n",
       "    }\n",
       "</style>\n",
       "<table border=\"1\" class=\"dataframe\">\n",
       "  <thead>\n",
       "    <tr style=\"text-align: right;\">\n",
       "      <th></th>\n",
       "      <th>PassengerId</th>\n",
       "      <th>Survived</th>\n",
       "      <th>Pclass</th>\n",
       "      <th>Name</th>\n",
       "      <th>Sex</th>\n",
       "      <th>Age</th>\n",
       "      <th>SibSp</th>\n",
       "      <th>Parch</th>\n",
       "      <th>Ticket</th>\n",
       "      <th>Fare</th>\n",
       "      <th>Cabin</th>\n",
       "      <th>Embarked</th>\n",
       "      <th>Deck</th>\n",
       "    </tr>\n",
       "  </thead>\n",
       "  <tbody>\n",
       "    <tr>\n",
       "      <th>0</th>\n",
       "      <td>1</td>\n",
       "      <td>0</td>\n",
       "      <td>3.0</td>\n",
       "      <td>Braund, Mr. Owen Harris</td>\n",
       "      <td>male</td>\n",
       "      <td>22.000</td>\n",
       "      <td>1.0</td>\n",
       "      <td>0.0</td>\n",
       "      <td>A/5 21171</td>\n",
       "      <td>7.2500</td>\n",
       "      <td>Z</td>\n",
       "      <td>S</td>\n",
       "      <td>Z</td>\n",
       "    </tr>\n",
       "    <tr>\n",
       "      <th>1</th>\n",
       "      <td>2</td>\n",
       "      <td>1</td>\n",
       "      <td>1.0</td>\n",
       "      <td>Cumings, Mrs. John Bradley (Florence Briggs Th...</td>\n",
       "      <td>female</td>\n",
       "      <td>38.000</td>\n",
       "      <td>1.0</td>\n",
       "      <td>0.0</td>\n",
       "      <td>PC 17599</td>\n",
       "      <td>71.2833</td>\n",
       "      <td>C85</td>\n",
       "      <td>C</td>\n",
       "      <td>C</td>\n",
       "    </tr>\n",
       "    <tr>\n",
       "      <th>2</th>\n",
       "      <td>3</td>\n",
       "      <td>1</td>\n",
       "      <td>3.0</td>\n",
       "      <td>Heikkinen, Miss. Laina</td>\n",
       "      <td>female</td>\n",
       "      <td>26.000</td>\n",
       "      <td>0.0</td>\n",
       "      <td>0.0</td>\n",
       "      <td>STON/O2. 3101282</td>\n",
       "      <td>7.9250</td>\n",
       "      <td>Z</td>\n",
       "      <td>S</td>\n",
       "      <td>Z</td>\n",
       "    </tr>\n",
       "    <tr>\n",
       "      <th>3</th>\n",
       "      <td>4</td>\n",
       "      <td>1</td>\n",
       "      <td>1.0</td>\n",
       "      <td>Futrelle, Mrs. Jacques Heath (Lily May Peel)</td>\n",
       "      <td>female</td>\n",
       "      <td>35.000</td>\n",
       "      <td>1.0</td>\n",
       "      <td>0.0</td>\n",
       "      <td>113803</td>\n",
       "      <td>53.1000</td>\n",
       "      <td>C123</td>\n",
       "      <td>S</td>\n",
       "      <td>C</td>\n",
       "    </tr>\n",
       "    <tr>\n",
       "      <th>4</th>\n",
       "      <td>5</td>\n",
       "      <td>0</td>\n",
       "      <td>3.0</td>\n",
       "      <td>Allen, Mr. William Henry</td>\n",
       "      <td>male</td>\n",
       "      <td>35.000</td>\n",
       "      <td>0.0</td>\n",
       "      <td>0.0</td>\n",
       "      <td>373450</td>\n",
       "      <td>8.0500</td>\n",
       "      <td>Z</td>\n",
       "      <td>S</td>\n",
       "      <td>Z</td>\n",
       "    </tr>\n",
       "    <tr>\n",
       "      <th>...</th>\n",
       "      <td>...</td>\n",
       "      <td>...</td>\n",
       "      <td>...</td>\n",
       "      <td>...</td>\n",
       "      <td>...</td>\n",
       "      <td>...</td>\n",
       "      <td>...</td>\n",
       "      <td>...</td>\n",
       "      <td>...</td>\n",
       "      <td>...</td>\n",
       "      <td>...</td>\n",
       "      <td>...</td>\n",
       "      <td>...</td>\n",
       "    </tr>\n",
       "    <tr>\n",
       "      <th>886</th>\n",
       "      <td>887</td>\n",
       "      <td>0</td>\n",
       "      <td>2.0</td>\n",
       "      <td>Montvila, Rev. Juozas</td>\n",
       "      <td>male</td>\n",
       "      <td>27.000</td>\n",
       "      <td>0.0</td>\n",
       "      <td>0.0</td>\n",
       "      <td>211536</td>\n",
       "      <td>13.0000</td>\n",
       "      <td>Z</td>\n",
       "      <td>S</td>\n",
       "      <td>Z</td>\n",
       "    </tr>\n",
       "    <tr>\n",
       "      <th>887</th>\n",
       "      <td>888</td>\n",
       "      <td>1</td>\n",
       "      <td>1.0</td>\n",
       "      <td>Graham, Miss. Margaret Edith</td>\n",
       "      <td>female</td>\n",
       "      <td>19.000</td>\n",
       "      <td>0.0</td>\n",
       "      <td>0.0</td>\n",
       "      <td>112053</td>\n",
       "      <td>30.0000</td>\n",
       "      <td>B42</td>\n",
       "      <td>S</td>\n",
       "      <td>B</td>\n",
       "    </tr>\n",
       "    <tr>\n",
       "      <th>888</th>\n",
       "      <td>889</td>\n",
       "      <td>0</td>\n",
       "      <td>3.0</td>\n",
       "      <td>Johnston, Miss. Catherine Helen \"Carrie\"</td>\n",
       "      <td>female</td>\n",
       "      <td>12.634</td>\n",
       "      <td>1.0</td>\n",
       "      <td>2.0</td>\n",
       "      <td>W./C. 6607</td>\n",
       "      <td>23.4500</td>\n",
       "      <td>Z</td>\n",
       "      <td>S</td>\n",
       "      <td>Z</td>\n",
       "    </tr>\n",
       "    <tr>\n",
       "      <th>889</th>\n",
       "      <td>890</td>\n",
       "      <td>1</td>\n",
       "      <td>1.0</td>\n",
       "      <td>Behr, Mr. Karl Howell</td>\n",
       "      <td>male</td>\n",
       "      <td>26.000</td>\n",
       "      <td>0.0</td>\n",
       "      <td>0.0</td>\n",
       "      <td>111369</td>\n",
       "      <td>30.0000</td>\n",
       "      <td>C148</td>\n",
       "      <td>C</td>\n",
       "      <td>C</td>\n",
       "    </tr>\n",
       "    <tr>\n",
       "      <th>890</th>\n",
       "      <td>891</td>\n",
       "      <td>0</td>\n",
       "      <td>3.0</td>\n",
       "      <td>Dooley, Mr. Patrick</td>\n",
       "      <td>male</td>\n",
       "      <td>32.000</td>\n",
       "      <td>0.0</td>\n",
       "      <td>0.0</td>\n",
       "      <td>370376</td>\n",
       "      <td>7.7500</td>\n",
       "      <td>Z</td>\n",
       "      <td>Q</td>\n",
       "      <td>Z</td>\n",
       "    </tr>\n",
       "  </tbody>\n",
       "</table>\n",
       "<p>891 rows × 13 columns</p>\n",
       "</div>"
      ],
      "text/plain": [
       "     PassengerId  Survived  Pclass  \\\n",
       "0              1         0     3.0   \n",
       "1              2         1     1.0   \n",
       "2              3         1     3.0   \n",
       "3              4         1     1.0   \n",
       "4              5         0     3.0   \n",
       "..           ...       ...     ...   \n",
       "886          887         0     2.0   \n",
       "887          888         1     1.0   \n",
       "888          889         0     3.0   \n",
       "889          890         1     1.0   \n",
       "890          891         0     3.0   \n",
       "\n",
       "                                                  Name     Sex     Age  SibSp  \\\n",
       "0                              Braund, Mr. Owen Harris    male  22.000    1.0   \n",
       "1    Cumings, Mrs. John Bradley (Florence Briggs Th...  female  38.000    1.0   \n",
       "2                               Heikkinen, Miss. Laina  female  26.000    0.0   \n",
       "3         Futrelle, Mrs. Jacques Heath (Lily May Peel)  female  35.000    1.0   \n",
       "4                             Allen, Mr. William Henry    male  35.000    0.0   \n",
       "..                                                 ...     ...     ...    ...   \n",
       "886                              Montvila, Rev. Juozas    male  27.000    0.0   \n",
       "887                       Graham, Miss. Margaret Edith  female  19.000    0.0   \n",
       "888           Johnston, Miss. Catherine Helen \"Carrie\"  female  12.634    1.0   \n",
       "889                              Behr, Mr. Karl Howell    male  26.000    0.0   \n",
       "890                                Dooley, Mr. Patrick    male  32.000    0.0   \n",
       "\n",
       "     Parch            Ticket     Fare Cabin Embarked Deck  \n",
       "0      0.0         A/5 21171   7.2500     Z        S    Z  \n",
       "1      0.0          PC 17599  71.2833   C85        C    C  \n",
       "2      0.0  STON/O2. 3101282   7.9250     Z        S    Z  \n",
       "3      0.0            113803  53.1000  C123        S    C  \n",
       "4      0.0            373450   8.0500     Z        S    Z  \n",
       "..     ...               ...      ...   ...      ...  ...  \n",
       "886    0.0            211536  13.0000     Z        S    Z  \n",
       "887    0.0            112053  30.0000   B42        S    B  \n",
       "888    2.0        W./C. 6607  23.4500     Z        S    Z  \n",
       "889    0.0            111369  30.0000  C148        C    C  \n",
       "890    0.0            370376   7.7500     Z        Q    Z  \n",
       "\n",
       "[891 rows x 13 columns]"
      ]
     },
     "execution_count": 210,
     "metadata": {},
     "output_type": "execute_result"
    }
   ],
   "source": [
    "train"
   ]
  },
  {
   "cell_type": "markdown",
   "metadata": {},
   "source": [
    "The value \"T\" in the Deck column of the training dataset is replaced with \"Z\" because as could be seen before, there is no Deck \"T\" in the test dataset. "
   ]
  },
  {
   "cell_type": "code",
   "execution_count": 211,
   "metadata": {
    "execution": {
     "iopub.execute_input": "2024-11-25T23:01:14.993452Z",
     "iopub.status.busy": "2024-11-25T23:01:14.993141Z",
     "iopub.status.idle": "2024-11-25T23:01:14.998986Z",
     "shell.execute_reply": "2024-11-25T23:01:14.997891Z",
     "shell.execute_reply.started": "2024-11-25T23:01:14.993421Z"
    }
   },
   "outputs": [],
   "source": [
    "train.loc[train[\"Deck\"] == \"T\", \"Deck\"] = \"Z\""
   ]
  },
  {
   "cell_type": "code",
   "execution_count": 212,
   "metadata": {
    "execution": {
     "iopub.execute_input": "2024-11-25T23:01:15.001294Z",
     "iopub.status.busy": "2024-11-25T23:01:15.000477Z",
     "iopub.status.idle": "2024-11-25T23:01:15.014880Z",
     "shell.execute_reply": "2024-11-25T23:01:15.013714Z",
     "shell.execute_reply.started": "2024-11-25T23:01:15.001244Z"
    }
   },
   "outputs": [
    {
     "data": {
      "text/html": [
       "<div>\n",
       "<style scoped>\n",
       "    .dataframe tbody tr th:only-of-type {\n",
       "        vertical-align: middle;\n",
       "    }\n",
       "\n",
       "    .dataframe tbody tr th {\n",
       "        vertical-align: top;\n",
       "    }\n",
       "\n",
       "    .dataframe thead th {\n",
       "        text-align: right;\n",
       "    }\n",
       "</style>\n",
       "<table border=\"1\" class=\"dataframe\">\n",
       "  <thead>\n",
       "    <tr style=\"text-align: right;\">\n",
       "      <th></th>\n",
       "      <th>PassengerId</th>\n",
       "      <th>Survived</th>\n",
       "      <th>Pclass</th>\n",
       "      <th>Name</th>\n",
       "      <th>Sex</th>\n",
       "      <th>Age</th>\n",
       "      <th>SibSp</th>\n",
       "      <th>Parch</th>\n",
       "      <th>Ticket</th>\n",
       "      <th>Fare</th>\n",
       "      <th>Cabin</th>\n",
       "      <th>Embarked</th>\n",
       "      <th>Deck</th>\n",
       "    </tr>\n",
       "  </thead>\n",
       "  <tbody>\n",
       "  </tbody>\n",
       "</table>\n",
       "</div>"
      ],
      "text/plain": [
       "Empty DataFrame\n",
       "Columns: [PassengerId, Survived, Pclass, Name, Sex, Age, SibSp, Parch, Ticket, Fare, Cabin, Embarked, Deck]\n",
       "Index: []"
      ]
     },
     "execution_count": 212,
     "metadata": {},
     "output_type": "execute_result"
    }
   ],
   "source": [
    "train[train[\"Deck\"]==\"T\"]"
   ]
  },
  {
   "cell_type": "markdown",
   "metadata": {},
   "source": [
    "## 2. FamilySize"
   ]
  },
  {
   "cell_type": "markdown",
   "metadata": {},
   "source": [
    "Let's create a new column FamilySize in the training and test dataset by adding the number of siblings/spouses (SibSp) and parents/children (Parch), plus 1 to include the individual passenger."
   ]
  },
  {
   "cell_type": "code",
   "execution_count": 213,
   "metadata": {
    "execution": {
     "iopub.execute_input": "2024-11-25T23:01:15.017087Z",
     "iopub.status.busy": "2024-11-25T23:01:15.016701Z",
     "iopub.status.idle": "2024-11-25T23:01:15.025810Z",
     "shell.execute_reply": "2024-11-25T23:01:15.024619Z",
     "shell.execute_reply.started": "2024-11-25T23:01:15.017056Z"
    }
   },
   "outputs": [],
   "source": [
    "train[\"FamilySize\"] = train[\"SibSp\"] + train[\"Parch\"] + 1\n",
    "test[\"FamilySize\"] = test[\"SibSp\"] + test[\"Parch\"] + 1"
   ]
  },
  {
   "cell_type": "code",
   "execution_count": 214,
   "metadata": {
    "execution": {
     "iopub.execute_input": "2024-11-25T23:01:15.027091Z",
     "iopub.status.busy": "2024-11-25T23:01:15.026777Z",
     "iopub.status.idle": "2024-11-25T23:01:15.047012Z",
     "shell.execute_reply": "2024-11-25T23:01:15.046123Z",
     "shell.execute_reply.started": "2024-11-25T23:01:15.027059Z"
    }
   },
   "outputs": [
    {
     "data": {
      "text/html": [
       "<div>\n",
       "<style scoped>\n",
       "    .dataframe tbody tr th:only-of-type {\n",
       "        vertical-align: middle;\n",
       "    }\n",
       "\n",
       "    .dataframe tbody tr th {\n",
       "        vertical-align: top;\n",
       "    }\n",
       "\n",
       "    .dataframe thead th {\n",
       "        text-align: right;\n",
       "    }\n",
       "</style>\n",
       "<table border=\"1\" class=\"dataframe\">\n",
       "  <thead>\n",
       "    <tr style=\"text-align: right;\">\n",
       "      <th></th>\n",
       "      <th>Survived</th>\n",
       "    </tr>\n",
       "    <tr>\n",
       "      <th>FamilySize</th>\n",
       "      <th></th>\n",
       "    </tr>\n",
       "  </thead>\n",
       "  <tbody>\n",
       "    <tr>\n",
       "      <th>1.0</th>\n",
       "      <td>0.303538</td>\n",
       "    </tr>\n",
       "    <tr>\n",
       "      <th>2.0</th>\n",
       "      <td>0.552795</td>\n",
       "    </tr>\n",
       "    <tr>\n",
       "      <th>3.0</th>\n",
       "      <td>0.578431</td>\n",
       "    </tr>\n",
       "    <tr>\n",
       "      <th>4.0</th>\n",
       "      <td>0.724138</td>\n",
       "    </tr>\n",
       "    <tr>\n",
       "      <th>5.0</th>\n",
       "      <td>0.200000</td>\n",
       "    </tr>\n",
       "    <tr>\n",
       "      <th>6.0</th>\n",
       "      <td>0.136364</td>\n",
       "    </tr>\n",
       "    <tr>\n",
       "      <th>7.0</th>\n",
       "      <td>0.333333</td>\n",
       "    </tr>\n",
       "    <tr>\n",
       "      <th>8.0</th>\n",
       "      <td>0.000000</td>\n",
       "    </tr>\n",
       "    <tr>\n",
       "      <th>11.0</th>\n",
       "      <td>0.000000</td>\n",
       "    </tr>\n",
       "  </tbody>\n",
       "</table>\n",
       "</div>"
      ],
      "text/plain": [
       "            Survived\n",
       "FamilySize          \n",
       "1.0         0.303538\n",
       "2.0         0.552795\n",
       "3.0         0.578431\n",
       "4.0         0.724138\n",
       "5.0         0.200000\n",
       "6.0         0.136364\n",
       "7.0         0.333333\n",
       "8.0         0.000000\n",
       "11.0        0.000000"
      ]
     },
     "execution_count": 214,
     "metadata": {},
     "output_type": "execute_result"
    }
   ],
   "source": [
    "train[[\"FamilySize\",\"Survived\"]].groupby(\"FamilySize\").mean()"
   ]
  },
  {
   "cell_type": "code",
   "execution_count": 215,
   "metadata": {
    "execution": {
     "iopub.execute_input": "2024-11-25T23:01:15.053701Z",
     "iopub.status.busy": "2024-11-25T23:01:15.053319Z",
     "iopub.status.idle": "2024-11-25T23:01:16.118271Z",
     "shell.execute_reply": "2024-11-25T23:01:16.117136Z",
     "shell.execute_reply.started": "2024-11-25T23:01:15.053668Z"
    }
   },
   "outputs": [
    {
     "data": {
      "image/png": "[encoded data removed]",
      "text/plain": [
       "<Figure size 1200x1000 with 2 Axes>"
      ]
     },
     "metadata": {},
     "output_type": "display_data"
    }
   ],
   "source": [
    "fig, ax = plt.subplots(2,1,figsize=(12, 10))\n",
    "\n",
    "plt.subplot(211)\n",
    "sns.countplot(train,x=\"FamilySize\")\n",
    "plt.title(\"Family Size distribution\")\n",
    "plt.ylabel(\"Survived\")\n",
    "\n",
    "plt.subplot(212)\n",
    "sns.histplot(train,x=\"FamilySize\",hue=\"Survived\")\n",
    "plt.title(\"Family Size distribution with respect to survival\")\n",
    "plt.ylabel(\"Survived\")\n",
    "\n",
    "plt.tight_layout()\n",
    "plt.show()"
   ]
  },
  {
   "cell_type": "markdown",
   "metadata": {},
   "source": [
    "This categorizes passengers into FamilyCategory based on FamilySize: \"Solo\" for individuals, \"Small\" for families of 2–4, \"Large\" for families of 5 or more, and \"Unknown\" for any undefined cases."
   ]
  },
  {
   "cell_type": "code",
   "execution_count": 216,
   "metadata": {
    "execution": {
     "iopub.execute_input": "2024-11-25T23:01:16.119770Z",
     "iopub.status.busy": "2024-11-25T23:01:16.119417Z",
     "iopub.status.idle": "2024-11-25T23:01:16.127136Z",
     "shell.execute_reply": "2024-11-25T23:01:16.126086Z",
     "shell.execute_reply.started": "2024-11-25T23:01:16.119732Z"
    }
   },
   "outputs": [],
   "source": [
    "for df in combine:\n",
    "    df[\"FamilyCategory\"] = df[\"FamilySize\"].apply(\n",
    "        lambda x: \"Solo\" if x == 1 else \n",
    "                  \"Small\" if 2 <= x <= 4 else \n",
    "                  \"Large\" if x >= 5 else \n",
    "                  \"Unknown\"\n",
    "    )"
   ]
  },
  {
   "cell_type": "code",
   "execution_count": 217,
   "metadata": {
    "execution": {
     "iopub.execute_input": "2024-11-25T23:01:16.128924Z",
     "iopub.status.busy": "2024-11-25T23:01:16.128489Z",
     "iopub.status.idle": "2024-11-25T23:01:16.160000Z",
     "shell.execute_reply": "2024-11-25T23:01:16.158910Z",
     "shell.execute_reply.started": "2024-11-25T23:01:16.128878Z"
    }
   },
   "outputs": [
    {
     "data": {
      "text/html": [
       "<div>\n",
       "<style scoped>\n",
       "    .dataframe tbody tr th:only-of-type {\n",
       "        vertical-align: middle;\n",
       "    }\n",
       "\n",
       "    .dataframe tbody tr th {\n",
       "        vertical-align: top;\n",
       "    }\n",
       "\n",
       "    .dataframe thead th {\n",
       "        text-align: right;\n",
       "    }\n",
       "</style>\n",
       "<table border=\"1\" class=\"dataframe\">\n",
       "  <thead>\n",
       "    <tr style=\"text-align: right;\">\n",
       "      <th></th>\n",
       "      <th>PassengerId</th>\n",
       "      <th>Survived</th>\n",
       "      <th>Pclass</th>\n",
       "      <th>Name</th>\n",
       "      <th>Sex</th>\n",
       "      <th>Age</th>\n",
       "      <th>SibSp</th>\n",
       "      <th>Parch</th>\n",
       "      <th>Ticket</th>\n",
       "      <th>Fare</th>\n",
       "      <th>Cabin</th>\n",
       "      <th>Embarked</th>\n",
       "      <th>Deck</th>\n",
       "      <th>FamilySize</th>\n",
       "      <th>FamilyCategory</th>\n",
       "    </tr>\n",
       "  </thead>\n",
       "  <tbody>\n",
       "    <tr>\n",
       "      <th>0</th>\n",
       "      <td>1</td>\n",
       "      <td>0</td>\n",
       "      <td>3.0</td>\n",
       "      <td>Braund, Mr. Owen Harris</td>\n",
       "      <td>male</td>\n",
       "      <td>22.000</td>\n",
       "      <td>1.0</td>\n",
       "      <td>0.0</td>\n",
       "      <td>A/5 21171</td>\n",
       "      <td>7.2500</td>\n",
       "      <td>Z</td>\n",
       "      <td>S</td>\n",
       "      <td>Z</td>\n",
       "      <td>2.0</td>\n",
       "      <td>Small</td>\n",
       "    </tr>\n",
       "    <tr>\n",
       "      <th>1</th>\n",
       "      <td>2</td>\n",
       "      <td>1</td>\n",
       "      <td>1.0</td>\n",
       "      <td>Cumings, Mrs. John Bradley (Florence Briggs Th...</td>\n",
       "      <td>female</td>\n",
       "      <td>38.000</td>\n",
       "      <td>1.0</td>\n",
       "      <td>0.0</td>\n",
       "      <td>PC 17599</td>\n",
       "      <td>71.2833</td>\n",
       "      <td>C85</td>\n",
       "      <td>C</td>\n",
       "      <td>C</td>\n",
       "      <td>2.0</td>\n",
       "      <td>Small</td>\n",
       "    </tr>\n",
       "    <tr>\n",
       "      <th>2</th>\n",
       "      <td>3</td>\n",
       "      <td>1</td>\n",
       "      <td>3.0</td>\n",
       "      <td>Heikkinen, Miss. Laina</td>\n",
       "      <td>female</td>\n",
       "      <td>26.000</td>\n",
       "      <td>0.0</td>\n",
       "      <td>0.0</td>\n",
       "      <td>STON/O2. 3101282</td>\n",
       "      <td>7.9250</td>\n",
       "      <td>Z</td>\n",
       "      <td>S</td>\n",
       "      <td>Z</td>\n",
       "      <td>1.0</td>\n",
       "      <td>Solo</td>\n",
       "    </tr>\n",
       "    <tr>\n",
       "      <th>3</th>\n",
       "      <td>4</td>\n",
       "      <td>1</td>\n",
       "      <td>1.0</td>\n",
       "      <td>Futrelle, Mrs. Jacques Heath (Lily May Peel)</td>\n",
       "      <td>female</td>\n",
       "      <td>35.000</td>\n",
       "      <td>1.0</td>\n",
       "      <td>0.0</td>\n",
       "      <td>113803</td>\n",
       "      <td>53.1000</td>\n",
       "      <td>C123</td>\n",
       "      <td>S</td>\n",
       "      <td>C</td>\n",
       "      <td>2.0</td>\n",
       "      <td>Small</td>\n",
       "    </tr>\n",
       "    <tr>\n",
       "      <th>4</th>\n",
       "      <td>5</td>\n",
       "      <td>0</td>\n",
       "      <td>3.0</td>\n",
       "      <td>Allen, Mr. William Henry</td>\n",
       "      <td>male</td>\n",
       "      <td>35.000</td>\n",
       "      <td>0.0</td>\n",
       "      <td>0.0</td>\n",
       "      <td>373450</td>\n",
       "      <td>8.0500</td>\n",
       "      <td>Z</td>\n",
       "      <td>S</td>\n",
       "      <td>Z</td>\n",
       "      <td>1.0</td>\n",
       "      <td>Solo</td>\n",
       "    </tr>\n",
       "    <tr>\n",
       "      <th>...</th>\n",
       "      <td>...</td>\n",
       "      <td>...</td>\n",
       "      <td>...</td>\n",
       "      <td>...</td>\n",
       "      <td>...</td>\n",
       "      <td>...</td>\n",
       "      <td>...</td>\n",
       "      <td>...</td>\n",
       "      <td>...</td>\n",
       "      <td>...</td>\n",
       "      <td>...</td>\n",
       "      <td>...</td>\n",
       "      <td>...</td>\n",
       "      <td>...</td>\n",
       "      <td>...</td>\n",
       "    </tr>\n",
       "    <tr>\n",
       "      <th>886</th>\n",
       "      <td>887</td>\n",
       "      <td>0</td>\n",
       "      <td>2.0</td>\n",
       "      <td>Montvila, Rev. Juozas</td>\n",
       "      <td>male</td>\n",
       "      <td>27.000</td>\n",
       "      <td>0.0</td>\n",
       "      <td>0.0</td>\n",
       "      <td>211536</td>\n",
       "      <td>13.0000</td>\n",
       "      <td>Z</td>\n",
       "      <td>S</td>\n",
       "      <td>Z</td>\n",
       "      <td>1.0</td>\n",
       "      <td>Solo</td>\n",
       "    </tr>\n",
       "    <tr>\n",
       "      <th>887</th>\n",
       "      <td>888</td>\n",
       "      <td>1</td>\n",
       "      <td>1.0</td>\n",
       "      <td>Graham, Miss. Margaret Edith</td>\n",
       "      <td>female</td>\n",
       "      <td>19.000</td>\n",
       "      <td>0.0</td>\n",
       "      <td>0.0</td>\n",
       "      <td>112053</td>\n",
       "      <td>30.0000</td>\n",
       "      <td>B42</td>\n",
       "      <td>S</td>\n",
       "      <td>B</td>\n",
       "      <td>1.0</td>\n",
       "      <td>Solo</td>\n",
       "    </tr>\n",
       "    <tr>\n",
       "      <th>888</th>\n",
       "      <td>889</td>\n",
       "      <td>0</td>\n",
       "      <td>3.0</td>\n",
       "      <td>Johnston, Miss. Catherine Helen \"Carrie\"</td>\n",
       "      <td>female</td>\n",
       "      <td>12.634</td>\n",
       "      <td>1.0</td>\n",
       "      <td>2.0</td>\n",
       "      <td>W./C. 6607</td>\n",
       "      <td>23.4500</td>\n",
       "      <td>Z</td>\n",
       "      <td>S</td>\n",
       "      <td>Z</td>\n",
       "      <td>4.0</td>\n",
       "      <td>Small</td>\n",
       "    </tr>\n",
       "    <tr>\n",
       "      <th>889</th>\n",
       "      <td>890</td>\n",
       "      <td>1</td>\n",
       "      <td>1.0</td>\n",
       "      <td>Behr, Mr. Karl Howell</td>\n",
       "      <td>male</td>\n",
       "      <td>26.000</td>\n",
       "      <td>0.0</td>\n",
       "      <td>0.0</td>\n",
       "      <td>111369</td>\n",
       "      <td>30.0000</td>\n",
       "      <td>C148</td>\n",
       "      <td>C</td>\n",
       "      <td>C</td>\n",
       "      <td>1.0</td>\n",
       "      <td>Solo</td>\n",
       "    </tr>\n",
       "    <tr>\n",
       "      <th>890</th>\n",
       "      <td>891</td>\n",
       "      <td>0</td>\n",
       "      <td>3.0</td>\n",
       "      <td>Dooley, Mr. Patrick</td>\n",
       "      <td>male</td>\n",
       "      <td>32.000</td>\n",
       "      <td>0.0</td>\n",
       "      <td>0.0</td>\n",
       "      <td>370376</td>\n",
       "      <td>7.7500</td>\n",
       "      <td>Z</td>\n",
       "      <td>Q</td>\n",
       "      <td>Z</td>\n",
       "      <td>1.0</td>\n",
       "      <td>Solo</td>\n",
       "    </tr>\n",
       "  </tbody>\n",
       "</table>\n",
       "<p>891 rows × 15 columns</p>\n",
       "</div>"
      ],
      "text/plain": [
       "     PassengerId  Survived  Pclass  \\\n",
       "0              1         0     3.0   \n",
       "1              2         1     1.0   \n",
       "2              3         1     3.0   \n",
       "3              4         1     1.0   \n",
       "4              5         0     3.0   \n",
       "..           ...       ...     ...   \n",
       "886          887         0     2.0   \n",
       "887          888         1     1.0   \n",
       "888          889         0     3.0   \n",
       "889          890         1     1.0   \n",
       "890          891         0     3.0   \n",
       "\n",
       "                                                  Name     Sex     Age  SibSp  \\\n",
       "0                              Braund, Mr. Owen Harris    male  22.000    1.0   \n",
       "1    Cumings, Mrs. John Bradley (Florence Briggs Th...  female  38.000    1.0   \n",
       "2                               Heikkinen, Miss. Laina  female  26.000    0.0   \n",
       "3         Futrelle, Mrs. Jacques Heath (Lily May Peel)  female  35.000    1.0   \n",
       "4                             Allen, Mr. William Henry    male  35.000    0.0   \n",
       "..                                                 ...     ...     ...    ...   \n",
       "886                              Montvila, Rev. Juozas    male  27.000    0.0   \n",
       "887                       Graham, Miss. Margaret Edith  female  19.000    0.0   \n",
       "888           Johnston, Miss. Catherine Helen \"Carrie\"  female  12.634    1.0   \n",
       "889                              Behr, Mr. Karl Howell    male  26.000    0.0   \n",
       "890                                Dooley, Mr. Patrick    male  32.000    0.0   \n",
       "\n",
       "     Parch            Ticket     Fare Cabin Embarked Deck  FamilySize  \\\n",
       "0      0.0         A/5 21171   7.2500     Z        S    Z         2.0   \n",
       "1      0.0          PC 17599  71.2833   C85        C    C         2.0   \n",
       "2      0.0  STON/O2. 3101282   7.9250     Z        S    Z         1.0   \n",
       "3      0.0            113803  53.1000  C123        S    C         2.0   \n",
       "4      0.0            373450   8.0500     Z        S    Z         1.0   \n",
       "..     ...               ...      ...   ...      ...  ...         ...   \n",
       "886    0.0            211536  13.0000     Z        S    Z         1.0   \n",
       "887    0.0            112053  30.0000   B42        S    B         1.0   \n",
       "888    2.0        W./C. 6607  23.4500     Z        S    Z         4.0   \n",
       "889    0.0            111369  30.0000  C148        C    C         1.0   \n",
       "890    0.0            370376   7.7500     Z        Q    Z         1.0   \n",
       "\n",
       "    FamilyCategory  \n",
       "0            Small  \n",
       "1            Small  \n",
       "2             Solo  \n",
       "3            Small  \n",
       "4             Solo  \n",
       "..             ...  \n",
       "886           Solo  \n",
       "887           Solo  \n",
       "888          Small  \n",
       "889           Solo  \n",
       "890           Solo  \n",
       "\n",
       "[891 rows x 15 columns]"
      ]
     },
     "execution_count": 217,
     "metadata": {},
     "output_type": "execute_result"
    }
   ],
   "source": [
    "train"
   ]
  },
  {
   "cell_type": "markdown",
   "metadata": {},
   "source": [
    "## 3. AgeBand"
   ]
  },
  {
   "cell_type": "code",
   "execution_count": 218,
   "metadata": {
    "execution": {
     "iopub.execute_input": "2024-11-25T23:01:16.161622Z",
     "iopub.status.busy": "2024-11-25T23:01:16.161280Z",
     "iopub.status.idle": "2024-11-25T23:01:17.460289Z",
     "shell.execute_reply": "2024-11-25T23:01:17.459106Z",
     "shell.execute_reply.started": "2024-11-25T23:01:16.161577Z"
    }
   },
   "outputs": [
    {
     "data": {
      "image/png": "[encoded data removed]",
      "text/plain": [
       "<Figure size 1800x600 with 2 Axes>"
      ]
     },
     "metadata": {},
     "output_type": "display_data"
    }
   ],
   "source": [
    "fig, axs = plt.subplots(1, 2, figsize=(18, 6))\n",
    "\n",
    "plt.subplot(121)\n",
    "sns.histplot(train,x=\"Age\",kde=True,color=\"g\",bins=40)\n",
    "plt.title(\"Age Distribution after imputing missing values\")\n",
    "\n",
    "plt.subplot(122)\n",
    "sns.histplot(train,x=\"Age\",kde=True,hue=\"Survived\",bins=20)\n",
    "plt.title(\"Age Distribution with respect to surivival after imputing missing values\")\n",
    "\n",
    "plt.tight_layout()\n",
    "plt.show()"
   ]
  },
  {
   "cell_type": "markdown",
   "metadata": {},
   "source": [
    "Let's create an AgeBand column in both the training and test datasets by grouping ages into categories: \"Child\" (0–10), \"Teenager\" (11–20), \"Adult\" (21–60), and \"Senior\" (61–90), using predefined bins."
   ]
  },
  {
   "cell_type": "code",
   "execution_count": 219,
   "metadata": {
    "execution": {
     "iopub.execute_input": "2024-11-25T23:01:17.462368Z",
     "iopub.status.busy": "2024-11-25T23:01:17.461923Z",
     "iopub.status.idle": "2024-11-25T23:01:17.474104Z",
     "shell.execute_reply": "2024-11-25T23:01:17.472868Z",
     "shell.execute_reply.started": "2024-11-25T23:01:17.462319Z"
    }
   },
   "outputs": [],
   "source": [
    "train[\"AgeBand\"] = pd.cut(train[\"Age\"],bins = [-1,10,20,60,90], labels =[\"Child\",\"Teenager\",\"Adult\",\"Senior\"])\n",
    "test[\"AgeBand\"] = pd.cut(test[\"Age\"],bins = [-1,10,20,60,90], labels =[\"Child\",\"Teenager\",\"Adult\",\"Senior\"])"
   ]
  },
  {
   "cell_type": "code",
   "execution_count": 220,
   "metadata": {
    "execution": {
     "iopub.execute_input": "2024-11-25T23:01:17.475615Z",
     "iopub.status.busy": "2024-11-25T23:01:17.475273Z",
     "iopub.status.idle": "2024-11-25T23:01:17.490416Z",
     "shell.execute_reply": "2024-11-25T23:01:17.489376Z",
     "shell.execute_reply.started": "2024-11-25T23:01:17.475553Z"
    }
   },
   "outputs": [
    {
     "data": {
      "text/html": [
       "<div>\n",
       "<style scoped>\n",
       "    .dataframe tbody tr th:only-of-type {\n",
       "        vertical-align: middle;\n",
       "    }\n",
       "\n",
       "    .dataframe tbody tr th {\n",
       "        vertical-align: top;\n",
       "    }\n",
       "\n",
       "    .dataframe thead th {\n",
       "        text-align: right;\n",
       "    }\n",
       "</style>\n",
       "<table border=\"1\" class=\"dataframe\">\n",
       "  <thead>\n",
       "    <tr style=\"text-align: right;\">\n",
       "      <th></th>\n",
       "      <th>Survived</th>\n",
       "    </tr>\n",
       "    <tr>\n",
       "      <th>AgeBand</th>\n",
       "      <th></th>\n",
       "    </tr>\n",
       "  </thead>\n",
       "  <tbody>\n",
       "    <tr>\n",
       "      <th>Child</th>\n",
       "      <td>0.558824</td>\n",
       "    </tr>\n",
       "    <tr>\n",
       "      <th>Teenager</th>\n",
       "      <td>0.370079</td>\n",
       "    </tr>\n",
       "    <tr>\n",
       "      <th>Adult</th>\n",
       "      <td>0.373887</td>\n",
       "    </tr>\n",
       "    <tr>\n",
       "      <th>Senior</th>\n",
       "      <td>0.227273</td>\n",
       "    </tr>\n",
       "  </tbody>\n",
       "</table>\n",
       "</div>"
      ],
      "text/plain": [
       "          Survived\n",
       "AgeBand           \n",
       "Child     0.558824\n",
       "Teenager  0.370079\n",
       "Adult     0.373887\n",
       "Senior    0.227273"
      ]
     },
     "execution_count": 220,
     "metadata": {},
     "output_type": "execute_result"
    }
   ],
   "source": [
    "train[[\"AgeBand\",\"Survived\"]].groupby(\"AgeBand\").mean()"
   ]
  },
  {
   "cell_type": "markdown",
   "metadata": {},
   "source": [
    "The table shows that younger passengers, such as \"Children\" (55.88%), have higher survival rates, while \"Seniors\" have the lowest survival rate at 22.73%, with \"Teenagers\" and \"Adults\" having similar survival rates around 37%."
   ]
  },
  {
   "cell_type": "markdown",
   "metadata": {},
   "source": [
    "## 4. FareBand"
   ]
  },
  {
   "cell_type": "code",
   "execution_count": 221,
   "metadata": {
    "execution": {
     "iopub.execute_input": "2024-11-25T23:01:17.492358Z",
     "iopub.status.busy": "2024-11-25T23:01:17.491919Z",
     "iopub.status.idle": "2024-11-25T23:01:18.288098Z",
     "shell.execute_reply": "2024-11-25T23:01:18.287004Z",
     "shell.execute_reply.started": "2024-11-25T23:01:17.492310Z"
    }
   },
   "outputs": [
    {
     "data": {
      "image/png": "[encoded data removed]",
      "text/plain": [
       "<Figure size 800x600 with 1 Axes>"
      ]
     },
     "metadata": {},
     "output_type": "display_data"
    }
   ],
   "source": [
    "sns.histplot(train,x=\"Fare\",kde=True,hue=\"Survived\",bins=30)\n",
    "plt.title(\"Fare Distribution with respect to surivival\")\n",
    "\n",
    "plt.tight_layout()\n",
    "plt.show()"
   ]
  },
  {
   "cell_type": "markdown",
   "metadata": {},
   "source": [
    "Let's do the similar thing for Fare as in the Age, because from the plot above we can see that it can also be easily categorized."
   ]
  },
  {
   "cell_type": "code",
   "execution_count": 222,
   "metadata": {
    "execution": {
     "iopub.execute_input": "2024-11-25T23:01:18.289621Z",
     "iopub.status.busy": "2024-11-25T23:01:18.289288Z",
     "iopub.status.idle": "2024-11-25T23:01:18.299070Z",
     "shell.execute_reply": "2024-11-25T23:01:18.298083Z",
     "shell.execute_reply.started": "2024-11-25T23:01:18.289580Z"
    }
   },
   "outputs": [],
   "source": [
    "train[\"FareBand\"] = pd.cut(train[\"Fare\"],bins = [-1,1,16,50,600], labels =[\"Nothing\",\"Low\",\"Medium\",\"High\"])\n",
    "test[\"FareBand\"] = pd.cut(test[\"Fare\"],bins = [-1,1,16,50,600], labels =[\"Nothing\",\"Low\",\"Medium\",\"High\"])"
   ]
  },
  {
   "cell_type": "code",
   "execution_count": 223,
   "metadata": {
    "execution": {
     "iopub.execute_input": "2024-11-25T23:01:18.300585Z",
     "iopub.status.busy": "2024-11-25T23:01:18.300249Z",
     "iopub.status.idle": "2024-11-25T23:01:18.316889Z",
     "shell.execute_reply": "2024-11-25T23:01:18.315834Z",
     "shell.execute_reply.started": "2024-11-25T23:01:18.300532Z"
    }
   },
   "outputs": [
    {
     "data": {
      "text/html": [
       "<div>\n",
       "<style scoped>\n",
       "    .dataframe tbody tr th:only-of-type {\n",
       "        vertical-align: middle;\n",
       "    }\n",
       "\n",
       "    .dataframe tbody tr th {\n",
       "        vertical-align: top;\n",
       "    }\n",
       "\n",
       "    .dataframe thead th {\n",
       "        text-align: right;\n",
       "    }\n",
       "</style>\n",
       "<table border=\"1\" class=\"dataframe\">\n",
       "  <thead>\n",
       "    <tr style=\"text-align: right;\">\n",
       "      <th></th>\n",
       "      <th>Survived</th>\n",
       "    </tr>\n",
       "    <tr>\n",
       "      <th>FareBand</th>\n",
       "      <th></th>\n",
       "    </tr>\n",
       "  </thead>\n",
       "  <tbody>\n",
       "    <tr>\n",
       "      <th>Nothing</th>\n",
       "      <td>0.066667</td>\n",
       "    </tr>\n",
       "    <tr>\n",
       "      <th>Low</th>\n",
       "      <td>0.270213</td>\n",
       "    </tr>\n",
       "    <tr>\n",
       "      <th>Medium</th>\n",
       "      <td>0.426829</td>\n",
       "    </tr>\n",
       "    <tr>\n",
       "      <th>High</th>\n",
       "      <td>0.681250</td>\n",
       "    </tr>\n",
       "  </tbody>\n",
       "</table>\n",
       "</div>"
      ],
      "text/plain": [
       "          Survived\n",
       "FareBand          \n",
       "Nothing   0.066667\n",
       "Low       0.270213\n",
       "Medium    0.426829\n",
       "High      0.681250"
      ]
     },
     "execution_count": 223,
     "metadata": {},
     "output_type": "execute_result"
    }
   ],
   "source": [
    "train[[\"FareBand\",\"Survived\"]].groupby(\"FareBand\").mean()"
   ]
  },
  {
   "cell_type": "markdown",
   "metadata": {},
   "source": [
    "The table shows that passengers in higher fare bands, such as \"High\" (68.13%) and \"Medium\" (42.68%), have significantly higher survival rates compared to those in lower fare bands, with \"Nothing\" having the lowest survival rate at 6.67%."
   ]
  },
  {
   "cell_type": "markdown",
   "metadata": {},
   "source": [
    "## 5. Title"
   ]
  },
  {
   "cell_type": "markdown",
   "metadata": {},
   "source": [
    "Now, let's extract the title from the passenger's name, categorize uncommon titles as \"Rare,\" and standardize other titles like \"Mlle\" to \"Miss,\" \"Ms\" to \"Miss,\" and \"Mme\" to \"Mrs.\""
   ]
  },
  {
   "cell_type": "code",
   "execution_count": 224,
   "metadata": {
    "execution": {
     "iopub.execute_input": "2024-11-25T23:01:18.318622Z",
     "iopub.status.busy": "2024-11-25T23:01:18.318193Z",
     "iopub.status.idle": "2024-11-25T23:01:18.333844Z",
     "shell.execute_reply": "2024-11-25T23:01:18.332828Z",
     "shell.execute_reply.started": "2024-11-25T23:01:18.318554Z"
    }
   },
   "outputs": [],
   "source": [
    "for df in combine:\n",
    "    df[\"Title\"]=df.Name.str.extract(' ([A-Za-z]+)\\.', expand=False).replace(['Lady', 'Countess','Capt', 'Col',\n",
    " \t'Don', 'Dr', 'Major', 'Rev', 'Sir', 'Jonkheer', 'Dona'], 'Rare')\n",
    "    df['Title'] = df['Title'].replace('Mlle', 'Miss')\n",
    "    df['Title'] = df['Title'].replace('Ms', 'Miss')\n",
    "    df['Title'] = df['Title'].replace('Mme', 'Mrs')"
   ]
  },
  {
   "cell_type": "code",
   "execution_count": 225,
   "metadata": {
    "execution": {
     "iopub.execute_input": "2024-11-25T23:01:18.335375Z",
     "iopub.status.busy": "2024-11-25T23:01:18.335057Z",
     "iopub.status.idle": "2024-11-25T23:01:18.346761Z",
     "shell.execute_reply": "2024-11-25T23:01:18.345751Z",
     "shell.execute_reply.started": "2024-11-25T23:01:18.335343Z"
    }
   },
   "outputs": [
    {
     "data": {
      "text/html": [
       "<div>\n",
       "<style scoped>\n",
       "    .dataframe tbody tr th:only-of-type {\n",
       "        vertical-align: middle;\n",
       "    }\n",
       "\n",
       "    .dataframe tbody tr th {\n",
       "        vertical-align: top;\n",
       "    }\n",
       "\n",
       "    .dataframe thead th {\n",
       "        text-align: right;\n",
       "    }\n",
       "</style>\n",
       "<table border=\"1\" class=\"dataframe\">\n",
       "  <thead>\n",
       "    <tr style=\"text-align: right;\">\n",
       "      <th></th>\n",
       "      <th>Survived</th>\n",
       "    </tr>\n",
       "    <tr>\n",
       "      <th>Title</th>\n",
       "      <th></th>\n",
       "    </tr>\n",
       "  </thead>\n",
       "  <tbody>\n",
       "    <tr>\n",
       "      <th>Master</th>\n",
       "      <td>0.575000</td>\n",
       "    </tr>\n",
       "    <tr>\n",
       "      <th>Miss</th>\n",
       "      <td>0.702703</td>\n",
       "    </tr>\n",
       "    <tr>\n",
       "      <th>Mr</th>\n",
       "      <td>0.156673</td>\n",
       "    </tr>\n",
       "    <tr>\n",
       "      <th>Mrs</th>\n",
       "      <td>0.793651</td>\n",
       "    </tr>\n",
       "    <tr>\n",
       "      <th>Rare</th>\n",
       "      <td>0.347826</td>\n",
       "    </tr>\n",
       "  </tbody>\n",
       "</table>\n",
       "</div>"
      ],
      "text/plain": [
       "        Survived\n",
       "Title           \n",
       "Master  0.575000\n",
       "Miss    0.702703\n",
       "Mr      0.156673\n",
       "Mrs     0.793651\n",
       "Rare    0.347826"
      ]
     },
     "execution_count": 225,
     "metadata": {},
     "output_type": "execute_result"
    }
   ],
   "source": [
    "train[[\"Title\",\"Survived\"]].groupby(\"Title\").mean()"
   ]
  },
  {
   "cell_type": "markdown",
   "metadata": {},
   "source": [
    "The table shows the average survival rates for different titles, with \"Mrs\" having the highest survival rate at 79.37%, followed by \"Miss\" (70.27%), \"Master\" (57.50%), \"Rare\" (34.78%), and \"Mr\" with the lowest survival rate at 15.67%."
   ]
  },
  {
   "cell_type": "markdown",
   "metadata": {},
   "source": [
    "## 6. Dropping columns"
   ]
  },
  {
   "cell_type": "markdown",
   "metadata": {},
   "source": [
    "Let's drop the columns that are not needed for the trainng, such as \"Cabin,\" \"SibSp,\" \"Parch,\" \"Ticket,\" \"Name,\" and \"PassengerId\" from both the training and test datasets."
   ]
  },
  {
   "cell_type": "code",
   "execution_count": 226,
   "metadata": {
    "execution": {
     "iopub.execute_input": "2024-11-25T23:01:18.348620Z",
     "iopub.status.busy": "2024-11-25T23:01:18.348186Z",
     "iopub.status.idle": "2024-11-25T23:01:18.370571Z",
     "shell.execute_reply": "2024-11-25T23:01:18.369601Z",
     "shell.execute_reply.started": "2024-11-25T23:01:18.348554Z"
    }
   },
   "outputs": [
    {
     "data": {
      "text/html": [
       "<div>\n",
       "<style scoped>\n",
       "    .dataframe tbody tr th:only-of-type {\n",
       "        vertical-align: middle;\n",
       "    }\n",
       "\n",
       "    .dataframe tbody tr th {\n",
       "        vertical-align: top;\n",
       "    }\n",
       "\n",
       "    .dataframe thead th {\n",
       "        text-align: right;\n",
       "    }\n",
       "</style>\n",
       "<table border=\"1\" class=\"dataframe\">\n",
       "  <thead>\n",
       "    <tr style=\"text-align: right;\">\n",
       "      <th></th>\n",
       "      <th>Survived</th>\n",
       "      <th>Pclass</th>\n",
       "      <th>Sex</th>\n",
       "      <th>Age</th>\n",
       "      <th>Fare</th>\n",
       "      <th>Embarked</th>\n",
       "      <th>Deck</th>\n",
       "      <th>FamilySize</th>\n",
       "      <th>FamilyCategory</th>\n",
       "      <th>AgeBand</th>\n",
       "      <th>FareBand</th>\n",
       "      <th>Title</th>\n",
       "    </tr>\n",
       "  </thead>\n",
       "  <tbody>\n",
       "    <tr>\n",
       "      <th>0</th>\n",
       "      <td>0</td>\n",
       "      <td>3.0</td>\n",
       "      <td>male</td>\n",
       "      <td>22.0</td>\n",
       "      <td>7.2500</td>\n",
       "      <td>S</td>\n",
       "      <td>Z</td>\n",
       "      <td>2.0</td>\n",
       "      <td>Small</td>\n",
       "      <td>Adult</td>\n",
       "      <td>Low</td>\n",
       "      <td>Mr</td>\n",
       "    </tr>\n",
       "    <tr>\n",
       "      <th>1</th>\n",
       "      <td>1</td>\n",
       "      <td>1.0</td>\n",
       "      <td>female</td>\n",
       "      <td>38.0</td>\n",
       "      <td>71.2833</td>\n",
       "      <td>C</td>\n",
       "      <td>C</td>\n",
       "      <td>2.0</td>\n",
       "      <td>Small</td>\n",
       "      <td>Adult</td>\n",
       "      <td>High</td>\n",
       "      <td>Mrs</td>\n",
       "    </tr>\n",
       "    <tr>\n",
       "      <th>2</th>\n",
       "      <td>1</td>\n",
       "      <td>3.0</td>\n",
       "      <td>female</td>\n",
       "      <td>26.0</td>\n",
       "      <td>7.9250</td>\n",
       "      <td>S</td>\n",
       "      <td>Z</td>\n",
       "      <td>1.0</td>\n",
       "      <td>Solo</td>\n",
       "      <td>Adult</td>\n",
       "      <td>Low</td>\n",
       "      <td>Miss</td>\n",
       "    </tr>\n",
       "    <tr>\n",
       "      <th>3</th>\n",
       "      <td>1</td>\n",
       "      <td>1.0</td>\n",
       "      <td>female</td>\n",
       "      <td>35.0</td>\n",
       "      <td>53.1000</td>\n",
       "      <td>S</td>\n",
       "      <td>C</td>\n",
       "      <td>2.0</td>\n",
       "      <td>Small</td>\n",
       "      <td>Adult</td>\n",
       "      <td>High</td>\n",
       "      <td>Mrs</td>\n",
       "    </tr>\n",
       "    <tr>\n",
       "      <th>4</th>\n",
       "      <td>0</td>\n",
       "      <td>3.0</td>\n",
       "      <td>male</td>\n",
       "      <td>35.0</td>\n",
       "      <td>8.0500</td>\n",
       "      <td>S</td>\n",
       "      <td>Z</td>\n",
       "      <td>1.0</td>\n",
       "      <td>Solo</td>\n",
       "      <td>Adult</td>\n",
       "      <td>Low</td>\n",
       "      <td>Mr</td>\n",
       "    </tr>\n",
       "  </tbody>\n",
       "</table>\n",
       "</div>"
      ],
      "text/plain": [
       "   Survived  Pclass     Sex   Age     Fare Embarked Deck  FamilySize  \\\n",
       "0         0     3.0    male  22.0   7.2500        S    Z         2.0   \n",
       "1         1     1.0  female  38.0  71.2833        C    C         2.0   \n",
       "2         1     3.0  female  26.0   7.9250        S    Z         1.0   \n",
       "3         1     1.0  female  35.0  53.1000        S    C         2.0   \n",
       "4         0     3.0    male  35.0   8.0500        S    Z         1.0   \n",
       "\n",
       "  FamilyCategory AgeBand FareBand Title  \n",
       "0          Small   Adult      Low    Mr  \n",
       "1          Small   Adult     High   Mrs  \n",
       "2           Solo   Adult      Low  Miss  \n",
       "3          Small   Adult     High   Mrs  \n",
       "4           Solo   Adult      Low    Mr  "
      ]
     },
     "execution_count": 226,
     "metadata": {},
     "output_type": "execute_result"
    }
   ],
   "source": [
    "id_for_submission = test[\"PassengerId\"]\n",
    "train = train.drop([\"Cabin\",\"SibSp\",\"Parch\",\"Ticket\",\"Name\",\"PassengerId\"],axis=1)\n",
    "test = test.drop([\"Cabin\",\"SibSp\",\"Parch\",\"Ticket\",\"Name\",\"PassengerId\"],axis=1)\n",
    "train.head()"
   ]
  },
  {
   "cell_type": "markdown",
   "metadata": {},
   "source": [
    "## 7. One Hot Encoding"
   ]
  },
  {
   "cell_type": "markdown",
   "metadata": {},
   "source": [
    "Now, let's apply one-hot encoding to categorical columns like \"Pclass\", \"Sex\", \"AgeBand\", \"FareBand\", \"Embarked\", \"Deck\", \"FamilyCategory\" and \"Title\" in both the training and test datasets, dropping the first category to avoid multicollinearity and converting the result to integers."
   ]
  },
  {
   "cell_type": "code",
   "execution_count": 227,
   "metadata": {
    "execution": {
     "iopub.execute_input": "2024-11-25T23:01:18.371903Z",
     "iopub.status.busy": "2024-11-25T23:01:18.371601Z",
     "iopub.status.idle": "2024-11-25T23:01:18.397447Z",
     "shell.execute_reply": "2024-11-25T23:01:18.396602Z",
     "shell.execute_reply.started": "2024-11-25T23:01:18.371864Z"
    }
   },
   "outputs": [],
   "source": [
    "train = pd.get_dummies(train, columns=['Pclass',\"Sex\",\"AgeBand\",\"FareBand\",\"Embarked\",\"Deck\",\"FamilyCategory\",\"Title\"],drop_first=True,dtype=int)\n",
    "test = pd.get_dummies(test, columns=['Pclass',\"Sex\",\"AgeBand\",\"FareBand\",\"Embarked\",\"Deck\",\"FamilyCategory\",\"Title\"],drop_first=True,dtype=int)\n"
   ]
  },
  {
   "cell_type": "code",
   "execution_count": 228,
   "metadata": {
    "execution": {
     "iopub.execute_input": "2024-11-25T23:01:18.398949Z",
     "iopub.status.busy": "2024-11-25T23:01:18.398610Z",
     "iopub.status.idle": "2024-11-25T23:01:18.407942Z",
     "shell.execute_reply": "2024-11-25T23:01:18.406971Z",
     "shell.execute_reply.started": "2024-11-25T23:01:18.398918Z"
    }
   },
   "outputs": [
    {
     "data": {
      "text/plain": [
       "Index(['Survived', 'Age', 'Fare', 'FamilySize', 'Pclass_2.0', 'Pclass_3.0',\n",
       "       'Sex_male', 'AgeBand_Teenager', 'AgeBand_Adult', 'AgeBand_Senior',\n",
       "       'FareBand_Low', 'FareBand_Medium', 'FareBand_High', 'Embarked_Q',\n",
       "       'Embarked_S', 'Deck_B', 'Deck_C', 'Deck_D', 'Deck_E', 'Deck_F',\n",
       "       'Deck_G', 'Deck_Z', 'FamilyCategory_Small', 'FamilyCategory_Solo',\n",
       "       'Title_Miss', 'Title_Mr', 'Title_Mrs', 'Title_Rare'],\n",
       "      dtype='object')"
      ]
     },
     "execution_count": 228,
     "metadata": {},
     "output_type": "execute_result"
    }
   ],
   "source": [
    "train.columns"
   ]
  },
  {
   "cell_type": "code",
   "execution_count": 229,
   "metadata": {
    "execution": {
     "iopub.execute_input": "2024-11-25T23:01:18.409858Z",
     "iopub.status.busy": "2024-11-25T23:01:18.409499Z",
     "iopub.status.idle": "2024-11-25T23:01:18.421036Z",
     "shell.execute_reply": "2024-11-25T23:01:18.420065Z",
     "shell.execute_reply.started": "2024-11-25T23:01:18.409826Z"
    }
   },
   "outputs": [
    {
     "data": {
      "text/plain": [
       "Index(['Age', 'Fare', 'FamilySize', 'Pclass_2.0', 'Pclass_3.0', 'Sex_male',\n",
       "       'AgeBand_Teenager', 'AgeBand_Adult', 'AgeBand_Senior', 'FareBand_Low',\n",
       "       'FareBand_Medium', 'FareBand_High', 'Embarked_Q', 'Embarked_S',\n",
       "       'Deck_B', 'Deck_C', 'Deck_D', 'Deck_E', 'Deck_F', 'Deck_G', 'Deck_Z',\n",
       "       'FamilyCategory_Small', 'FamilyCategory_Solo', 'Title_Miss', 'Title_Mr',\n",
       "       'Title_Mrs', 'Title_Rare'],\n",
       "      dtype='object')"
      ]
     },
     "execution_count": 229,
     "metadata": {},
     "output_type": "execute_result"
    }
   ],
   "source": [
    "test.columns"
   ]
  },
  {
   "cell_type": "markdown",
   "metadata": {},
   "source": [
    "## 8. Scaling numerical values "
   ]
  },
  {
   "cell_type": "markdown",
   "metadata": {},
   "source": [
    "Let's scale the numerical features, \"Age\" and \"Fare,\" by scaling them to have a mean of 0 and a standard deviation of 1, using the StandardScaler on both the training and test datasets, to ensure all features are on the same scale and improve model performance."
   ]
  },
  {
   "cell_type": "code",
   "execution_count": 230,
   "metadata": {
    "execution": {
     "iopub.execute_input": "2024-11-25T23:01:18.422852Z",
     "iopub.status.busy": "2024-11-25T23:01:18.422334Z",
     "iopub.status.idle": "2024-11-25T23:01:18.449713Z",
     "shell.execute_reply": "2024-11-25T23:01:18.448646Z",
     "shell.execute_reply.started": "2024-11-25T23:01:18.422806Z"
    }
   },
   "outputs": [
    {
     "data": {
      "text/html": [
       "<div>\n",
       "<style scoped>\n",
       "    .dataframe tbody tr th:only-of-type {\n",
       "        vertical-align: middle;\n",
       "    }\n",
       "\n",
       "    .dataframe tbody tr th {\n",
       "        vertical-align: top;\n",
       "    }\n",
       "\n",
       "    .dataframe thead th {\n",
       "        text-align: right;\n",
       "    }\n",
       "</style>\n",
       "<table border=\"1\" class=\"dataframe\">\n",
       "  <thead>\n",
       "    <tr style=\"text-align: right;\">\n",
       "      <th></th>\n",
       "      <th>Survived</th>\n",
       "      <th>Age</th>\n",
       "      <th>Fare</th>\n",
       "      <th>FamilySize</th>\n",
       "      <th>Pclass_2.0</th>\n",
       "      <th>Pclass_3.0</th>\n",
       "      <th>Sex_male</th>\n",
       "      <th>AgeBand_Teenager</th>\n",
       "      <th>AgeBand_Adult</th>\n",
       "      <th>AgeBand_Senior</th>\n",
       "      <th>...</th>\n",
       "      <th>Deck_E</th>\n",
       "      <th>Deck_F</th>\n",
       "      <th>Deck_G</th>\n",
       "      <th>Deck_Z</th>\n",
       "      <th>FamilyCategory_Small</th>\n",
       "      <th>FamilyCategory_Solo</th>\n",
       "      <th>Title_Miss</th>\n",
       "      <th>Title_Mr</th>\n",
       "      <th>Title_Mrs</th>\n",
       "      <th>Title_Rare</th>\n",
       "    </tr>\n",
       "  </thead>\n",
       "  <tbody>\n",
       "    <tr>\n",
       "      <th>0</th>\n",
       "      <td>0</td>\n",
       "      <td>-0.520449</td>\n",
       "      <td>-0.502445</td>\n",
       "      <td>2.0</td>\n",
       "      <td>0</td>\n",
       "      <td>1</td>\n",
       "      <td>1</td>\n",
       "      <td>0</td>\n",
       "      <td>1</td>\n",
       "      <td>0</td>\n",
       "      <td>...</td>\n",
       "      <td>0</td>\n",
       "      <td>0</td>\n",
       "      <td>0</td>\n",
       "      <td>1</td>\n",
       "      <td>1</td>\n",
       "      <td>0</td>\n",
       "      <td>0</td>\n",
       "      <td>1</td>\n",
       "      <td>0</td>\n",
       "      <td>0</td>\n",
       "    </tr>\n",
       "    <tr>\n",
       "      <th>1</th>\n",
       "      <td>1</td>\n",
       "      <td>0.642060</td>\n",
       "      <td>0.786845</td>\n",
       "      <td>2.0</td>\n",
       "      <td>0</td>\n",
       "      <td>0</td>\n",
       "      <td>0</td>\n",
       "      <td>0</td>\n",
       "      <td>1</td>\n",
       "      <td>0</td>\n",
       "      <td>...</td>\n",
       "      <td>0</td>\n",
       "      <td>0</td>\n",
       "      <td>0</td>\n",
       "      <td>0</td>\n",
       "      <td>1</td>\n",
       "      <td>0</td>\n",
       "      <td>0</td>\n",
       "      <td>0</td>\n",
       "      <td>1</td>\n",
       "      <td>0</td>\n",
       "    </tr>\n",
       "    <tr>\n",
       "      <th>2</th>\n",
       "      <td>1</td>\n",
       "      <td>-0.229822</td>\n",
       "      <td>-0.488854</td>\n",
       "      <td>1.0</td>\n",
       "      <td>0</td>\n",
       "      <td>1</td>\n",
       "      <td>0</td>\n",
       "      <td>0</td>\n",
       "      <td>1</td>\n",
       "      <td>0</td>\n",
       "      <td>...</td>\n",
       "      <td>0</td>\n",
       "      <td>0</td>\n",
       "      <td>0</td>\n",
       "      <td>1</td>\n",
       "      <td>0</td>\n",
       "      <td>1</td>\n",
       "      <td>1</td>\n",
       "      <td>0</td>\n",
       "      <td>0</td>\n",
       "      <td>0</td>\n",
       "    </tr>\n",
       "    <tr>\n",
       "      <th>3</th>\n",
       "      <td>1</td>\n",
       "      <td>0.424089</td>\n",
       "      <td>0.420730</td>\n",
       "      <td>2.0</td>\n",
       "      <td>0</td>\n",
       "      <td>0</td>\n",
       "      <td>0</td>\n",
       "      <td>0</td>\n",
       "      <td>1</td>\n",
       "      <td>0</td>\n",
       "      <td>...</td>\n",
       "      <td>0</td>\n",
       "      <td>0</td>\n",
       "      <td>0</td>\n",
       "      <td>0</td>\n",
       "      <td>1</td>\n",
       "      <td>0</td>\n",
       "      <td>0</td>\n",
       "      <td>0</td>\n",
       "      <td>1</td>\n",
       "      <td>0</td>\n",
       "    </tr>\n",
       "    <tr>\n",
       "      <th>4</th>\n",
       "      <td>0</td>\n",
       "      <td>0.424089</td>\n",
       "      <td>-0.486337</td>\n",
       "      <td>1.0</td>\n",
       "      <td>0</td>\n",
       "      <td>1</td>\n",
       "      <td>1</td>\n",
       "      <td>0</td>\n",
       "      <td>1</td>\n",
       "      <td>0</td>\n",
       "      <td>...</td>\n",
       "      <td>0</td>\n",
       "      <td>0</td>\n",
       "      <td>0</td>\n",
       "      <td>1</td>\n",
       "      <td>0</td>\n",
       "      <td>1</td>\n",
       "      <td>0</td>\n",
       "      <td>1</td>\n",
       "      <td>0</td>\n",
       "      <td>0</td>\n",
       "    </tr>\n",
       "  </tbody>\n",
       "</table>\n",
       "<p>5 rows × 28 columns</p>\n",
       "</div>"
      ],
      "text/plain": [
       "   Survived       Age      Fare  FamilySize  Pclass_2.0  Pclass_3.0  Sex_male  \\\n",
       "0         0 -0.520449 -0.502445         2.0           0           1         1   \n",
       "1         1  0.642060  0.786845         2.0           0           0         0   \n",
       "2         1 -0.229822 -0.488854         1.0           0           1         0   \n",
       "3         1  0.424089  0.420730         2.0           0           0         0   \n",
       "4         0  0.424089 -0.486337         1.0           0           1         1   \n",
       "\n",
       "   AgeBand_Teenager  AgeBand_Adult  AgeBand_Senior  ...  Deck_E  Deck_F  \\\n",
       "0                 0              1               0  ...       0       0   \n",
       "1                 0              1               0  ...       0       0   \n",
       "2                 0              1               0  ...       0       0   \n",
       "3                 0              1               0  ...       0       0   \n",
       "4                 0              1               0  ...       0       0   \n",
       "\n",
       "   Deck_G  Deck_Z  FamilyCategory_Small  FamilyCategory_Solo  Title_Miss  \\\n",
       "0       0       1                     1                    0           0   \n",
       "1       0       0                     1                    0           0   \n",
       "2       0       1                     0                    1           1   \n",
       "3       0       0                     1                    0           0   \n",
       "4       0       1                     0                    1           0   \n",
       "\n",
       "   Title_Mr  Title_Mrs  Title_Rare  \n",
       "0         1          0           0  \n",
       "1         0          1           0  \n",
       "2         0          0           0  \n",
       "3         0          1           0  \n",
       "4         1          0           0  \n",
       "\n",
       "[5 rows x 28 columns]"
      ]
     },
     "execution_count": 230,
     "metadata": {},
     "output_type": "execute_result"
    }
   ],
   "source": [
    "numerical_features = [\"Age\", \"Fare\"]\n",
    "scaler = StandardScaler()\n",
    "train[numerical_features]= scaler.fit_transform(train[numerical_features])\n",
    "test[numerical_features]= scaler.transform(test[numerical_features])\n",
    "train.head()"
   ]
  },
  {
   "cell_type": "markdown",
   "metadata": {},
   "source": [
    "# Cross Validation "
   ]
  },
  {
   "cell_type": "markdown",
   "metadata": {},
   "source": [
    "We are separating the features (X) and the target variable (y) from the training dataset and then splitting the data into training and validation sets, using 80% for training and 20% for validation, to evaluate model performance on unseen data."
   ]
  },
  {
   "cell_type": "code",
   "execution_count": 231,
   "metadata": {
    "execution": {
     "iopub.execute_input": "2024-11-25T23:01:18.451589Z",
     "iopub.status.busy": "2024-11-25T23:01:18.451158Z",
     "iopub.status.idle": "2024-11-25T23:01:18.466069Z",
     "shell.execute_reply": "2024-11-25T23:01:18.465041Z",
     "shell.execute_reply.started": "2024-11-25T23:01:18.451523Z"
    }
   },
   "outputs": [],
   "source": [
    "X = train.drop('Survived', axis=1)\n",
    "y = train['Survived']\n",
    "\n",
    "X_train, X_val, y_train, y_val = train_test_split(X, y, test_size=0.2,stratify=y, random_state=42)"
   ]
  },
  {
   "cell_type": "markdown",
   "metadata": {},
   "source": [
    "The code below defines a dictionary called models that stores different machine learning algorithms, including RandomForest, GradientBoosting, KNeighbors, XGBoost, and CatBoost. This allows easy access to multiple models for comparison.\n",
    "\n",
    "It also defines a param_grids dictionary, which holds hyperparameter tuning grids for each model. These grids specify various values for parameters like n_estimators, learning_rate, and max_depth, which will be used for hyperparameter optimization to find the best model configuration."
   ]
  },
  {
   "cell_type": "code",
   "execution_count": 232,
   "metadata": {
    "execution": {
     "iopub.execute_input": "2024-11-25T23:01:18.467935Z",
     "iopub.status.busy": "2024-11-25T23:01:18.467468Z",
     "iopub.status.idle": "2024-11-25T23:01:18.478844Z",
     "shell.execute_reply": "2024-11-25T23:01:18.477752Z",
     "shell.execute_reply.started": "2024-11-25T23:01:18.467887Z"
    }
   },
   "outputs": [],
   "source": [
    "models = {\n",
    "    'RandomForest': RandomForestClassifier(),\n",
    "    'GradientBoosting': GradientBoostingClassifier(),\n",
    "    'KNeighbors': KNeighborsClassifier(),\n",
    "    'XGBoost': XGBClassifier(),\n",
    "    'CatBoost': CatBoostClassifier(silent=True)  \n",
    "}\n",
    "\n",
    "param_grids = {\n",
    "    'RandomForest': {\n",
    "        'n_estimators': [50, 100, 200],\n",
    "        'max_depth': [3, 5, 7, 10],\n",
    "        'min_samples_split': [2, 5, 10],\n",
    "        'min_samples_leaf': [1, 2, 4],\n",
    "        'bootstrap': [True, False]\n",
    "    },\n",
    "    'GradientBoosting': {\n",
    "        'n_estimators': [50, 100, 200],\n",
    "        'learning_rate': [0.01, 0.1, 0.2],\n",
    "        'max_depth': [3, 5, 7],\n",
    "        'subsample': [0.8, 0.9, 1.0],\n",
    "        'min_samples_split': [2, 5, 10]\n",
    "    },\n",
    "    'KNeighbors': {\n",
    "        'n_neighbors': [3, 5, 7, 10],\n",
    "        'weights': ['uniform', 'distance'],\n",
    "        'metric': ['euclidean', 'manhattan']\n",
    "    },\n",
    "    'XGBoost': {\n",
    "        'n_estimators': [50, 100, 200],\n",
    "        'learning_rate': [0.01, 0.05, 0.1],\n",
    "        'max_depth': [3, 5, 7],\n",
    "        'subsample': [0.8, 0.9, 1.0],\n",
    "        'colsample_bytree': [0.8, 0.9, 1.0]\n",
    "    },\n",
    "    'CatBoost': { \n",
    "        'iterations': [50, 100, 200],\n",
    "        'depth': [3, 5, 7],\n",
    "        'learning_rate': [0.01, 0.05, 0.1],\n",
    "        'subsample': [0.8, 0.9, 1.0],\n",
    "        'l2_leaf_reg': [1, 3, 5]\n",
    "    }\n",
    "}\n"
   ]
  },
  {
   "cell_type": "markdown",
   "metadata": {},
   "source": [
    "The code below trains and tunes multiple machine learning models using `GridSearchCV` with cross-validation.\n",
    "\n",
    "We begin by initializing an empty dictionary, `best_models`, and two lists: `model_names` and `accuracy_scores`, which will store the results. To ensure that each fold maintains the correct class distribution, we use `StratifiedKFold` with 5 splits.\n",
    "\n",
    "For each model in the `models` dictionary, we follow these steps:\n",
    "\n",
    "1. **Print the model name** to indicate which model is currently being trained.\n",
    "2. **Use `GridSearchCV`** with the specific hyperparameter grid (`param_grids[model_name]`) to find the best combination of parameters for the model.\n",
    "3. **Fit the model** on the training data (`X_train`, `y_train`).\n",
    "4. **Save the best model** along with its hyperparameters and the best cross-validation score in the `best_models` dictionary.\n",
    "5. **Make predictions** on the validation set (`X_val`) and calculate the accuracy, which is then added to the `accuracy_scores` list.\n",
    "\n",
    "Finally, we print the best parameters and cross-validation scores for each model, and store these values in the `model_names` and `validation_scores` lists.\n"
   ]
  },
  {
   "cell_type": "code",
   "execution_count": 234,
   "metadata": {
    "execution": {
     "iopub.execute_input": "2024-11-25T23:12:55.942359Z",
     "iopub.status.busy": "2024-11-25T23:12:55.941965Z",
     "iopub.status.idle": "2024-11-25T23:26:19.822036Z",
     "shell.execute_reply": "2024-11-25T23:26:19.820796Z",
     "shell.execute_reply.started": "2024-11-25T23:12:55.942324Z"
    }
   },
   "outputs": [
    {
     "name": "stdout",
     "output_type": "stream",
     "text": [
      "Training and tuning RandomForest...\n",
      "Fitting 5 folds for each of 216 candidates, totalling 1080 fits\n",
      "Best Accuracy for RandomForest: 0.8101\n",
      "\n",
      "Training and tuning GradientBoosting...\n",
      "Fitting 5 folds for each of 243 candidates, totalling 1215 fits\n",
      "Best Accuracy for GradientBoosting: 0.7821\n",
      "\n",
      "Training and tuning KNeighbors...\n",
      "Fitting 5 folds for each of 16 candidates, totalling 80 fits\n",
      "Best Accuracy for KNeighbors: 0.7877\n",
      "\n",
      "Training and tuning XGBoost...\n",
      "Fitting 5 folds for each of 243 candidates, totalling 1215 fits\n",
      "Best Accuracy for XGBoost: 0.8101\n",
      "\n",
      "Training and tuning CatBoost...\n",
      "Fitting 5 folds for each of 243 candidates, totalling 1215 fits\n",
      "Best Accuracy for CatBoost: 0.8045\n",
      "\n",
      "RandomForest Best Parameters: {'bootstrap': True, 'max_depth': 7, 'min_samples_leaf': 1, 'min_samples_split': 2, 'n_estimators': 100}\n",
      "RandomForest Best Cross-Validation Score: 0.8385\n",
      "\n",
      "GradientBoosting Best Parameters: {'learning_rate': 0.01, 'max_depth': 5, 'min_samples_split': 10, 'n_estimators': 50, 'subsample': 0.8}\n",
      "GradientBoosting Best Cross-Validation Score: 0.8385\n",
      "\n",
      "KNeighbors Best Parameters: {'metric': 'manhattan', 'n_neighbors': 7, 'weights': 'uniform'}\n",
      "KNeighbors Best Cross-Validation Score: 0.8118\n",
      "\n",
      "XGBoost Best Parameters: {'colsample_bytree': 1.0, 'learning_rate': 0.1, 'max_depth': 3, 'n_estimators': 200, 'subsample': 0.9}\n",
      "XGBoost Best Cross-Validation Score: 0.8385\n",
      "\n",
      "CatBoost Best Parameters: {'depth': 3, 'iterations': 200, 'l2_leaf_reg': 3, 'learning_rate': 0.01, 'subsample': 1.0}\n",
      "CatBoost Best Cross-Validation Score: 0.8385\n",
      "\n"
     ]
    }
   ],
   "source": [
    "best_models = {}\n",
    "model_names = [] \n",
    "accuracy_scores = []\n",
    "validation_scores = []\n",
    "kfold = StratifiedKFold(n_splits=5,shuffle=True,random_state=42)\n",
    "\n",
    "for model_name, model in models.items():\n",
    "    print(f\"Training and tuning {model_name}...\")\n",
    "    \n",
    "    grid_search = GridSearchCV(estimator=model, param_grid=param_grids[model_name], \n",
    "                               cv=kfold, n_jobs=-1, verbose=1, scoring='accuracy')\n",
    "    \n",
    "    grid_search.fit(X_train, y_train)\n",
    "    \n",
    "    best_models[model_name] = {\n",
    "        'model': grid_search.best_estimator_,\n",
    "        'best_params': grid_search.best_params_,\n",
    "        'best_score': grid_search.best_score_\n",
    "    }\n",
    "\n",
    "    y_pred = grid_search.best_estimator_.predict(X_val)\n",
    "    accuracy = accuracy_score(y_val, y_pred)\n",
    "    print(f\"Best Accuracy for {model_name}: {accuracy:.4f}\\n\")\n",
    "    accuracy_scores.append(accuracy)\n",
    "\n",
    "for model_name, details in best_models.items():\n",
    "    print(f\"{model_name} Best Parameters: {details['best_params']}\")\n",
    "    model_names.append(model_name)\n",
    "    print(f\"{model_name} Best Cross-Validation Score: {details['best_score']:.4f}\\n\")\n",
    "    validation_scores.append(details['best_score'])\n"
   ]
  },
  {
   "cell_type": "markdown",
   "metadata": {},
   "source": [
    "\n",
    "We begin by creating a DataFrame `performance_df` that contains the model names, accuracy scores, and cross-validation scores. The DataFrame is then sorted in descending order based on the accuracy scores to make it easier to compare model performance on the plot below."
   ]
  },
  {
   "cell_type": "code",
   "execution_count": 239,
   "metadata": {
    "execution": {
     "iopub.execute_input": "2024-11-25T23:42:43.728778Z",
     "iopub.status.busy": "2024-11-25T23:42:43.727704Z",
     "iopub.status.idle": "2024-11-25T23:42:44.400516Z",
     "shell.execute_reply": "2024-11-25T23:42:44.399390Z",
     "shell.execute_reply.started": "2024-11-25T23:42:43.728730Z"
    }
   },
   "outputs": [
    {
     "data": {
      "image/png": "[encoded data removed]",
      "text/plain": [
       "<Figure size 1400x600 with 2 Axes>"
      ]
     },
     "metadata": {},
     "output_type": "display_data"
    }
   ],
   "source": [
    "performance_df = pd.DataFrame(\n",
    "    {\n",
    "        \"Model\":model_names,\n",
    "        \"Accuracy\":accuracy_scores,\n",
    "        \"Validation\":validation_scores\n",
    "    }\n",
    ")\n",
    "\n",
    "performance_df = performance_df.sort_values(by=\"Accuracy\", ascending=False)\n",
    "\n",
    "fig, axes = plt.subplots(1, 2, figsize=(14, 6))\n",
    "\n",
    "axes[0].barh(\n",
    "    y=performance_df['Model'],\n",
    "    width=performance_df['Accuracy'],\n",
    "    height=0.4, \n",
    "    align='center',\n",
    "    color='skyblue'\n",
    ")\n",
    "axes[0].set_xlabel(\"Accuracy Score\")\n",
    "axes[0].set_title(\"Validation Accuracy\")\n",
    "axes[0].set_xlim(0, 1) \n",
    "\n",
    "axes[1].barh(\n",
    "    y=performance_df['Model'],\n",
    "    width=performance_df['Validation'],\n",
    "    height=0.4,  \n",
    "    align='center',\n",
    "    color='salmon'\n",
    ")\n",
    "axes[1].set_xlabel(\"Cross-Validation Score\")\n",
    "axes[1].set_title(\"Cross-Validation Score\")\n",
    "axes[1].set_xlim(0, 1) \n",
    "\n",
    "plt.tight_layout()\n",
    "plt.show()"
   ]
  },
  {
   "cell_type": "markdown",
   "metadata": {},
   "source": [
    "# Test predictions"
   ]
  },
  {
   "cell_type": "markdown",
   "metadata": {},
   "source": [
    "Let's start by creating an empty dictionary, `test_predictions`, which will store the predictions for each model on the test set.\n",
    "Then we print our training accuracy of each model. "
   ]
  },
  {
   "cell_type": "code",
   "execution_count": 237,
   "metadata": {
    "execution": {
     "iopub.execute_input": "2024-11-25T23:29:36.096367Z",
     "iopub.status.busy": "2024-11-25T23:29:36.095970Z",
     "iopub.status.idle": "2024-11-25T23:29:36.241284Z",
     "shell.execute_reply": "2024-11-25T23:29:36.240206Z",
     "shell.execute_reply.started": "2024-11-25T23:29:36.096331Z"
    }
   },
   "outputs": [
    {
     "name": "stdout",
     "output_type": "stream",
     "text": [
      "RandomForest training accuracy: 0.9101\n",
      "GradientBoosting training accuracy: 0.8708\n",
      "KNeighbors training accuracy: 0.8581\n",
      "XGBoost training accuracy: 0.9185\n",
      "CatBoost training accuracy: 0.8385\n"
     ]
    }
   ],
   "source": [
    "test_predictions = {}\n",
    "\n",
    "for model_name, model_info in best_models.items():\n",
    "    best_model = model_info['model']\n",
    "    \n",
    "    predictions = best_model.predict(test)\n",
    "    test_predictions[model_name] = predictions\n",
    "    \n",
    "    train_accuracy = accuracy_score(y_train, best_model.predict(X_train))\n",
    "    print(f\"{model_name} training accuracy: {train_accuracy:.4f}\")"
   ]
  },
  {
   "cell_type": "markdown",
   "metadata": {},
   "source": [
    "Now we save our predictions in csv file for each model in submission compatible format."
   ]
  },
  {
   "cell_type": "code",
   "execution_count": 238,
   "metadata": {
    "execution": {
     "iopub.execute_input": "2024-11-25T23:29:56.460842Z",
     "iopub.status.busy": "2024-11-25T23:29:56.460048Z",
     "iopub.status.idle": "2024-11-25T23:29:56.473705Z",
     "shell.execute_reply": "2024-11-25T23:29:56.472625Z",
     "shell.execute_reply.started": "2024-11-25T23:29:56.460797Z"
    }
   },
   "outputs": [],
   "source": [
    "model_names =['RandomForest','GradientBoosting','KNeighbors','XGBoost','CatBoost']\n",
    "for name in model_names:\n",
    "    submission = pd.DataFrame({\"PassengerId\":id_for_submission,\"Survived\":test_predictions[name]})\n",
    "    submission.to_csv(f\"submissions/{name}.csv\",index=False)"
   ]
  },
  {
   "cell_type": "code",
   "execution_count": null,
   "metadata": {},
   "outputs": [],
   "source": []
  }
 ],
 "metadata": {
  "kaggle": {
   "accelerator": "none",
   "dataSources": [
    {
     "databundleVersionId": 26502,
     "sourceId": 3136,
     "sourceType": "competition"
    }
   ],
   "dockerImageVersionId": 30786,
   "isGpuEnabled": false,
   "isInternetEnabled": true,
   "language": "python",
   "sourceType": "notebook"
  },
  "kernelspec": {
   "display_name": "Python 3 (ipykernel)",
   "language": "python",
   "name": "python3"
  },
  "language_info": {
   "codemirror_mode": {
    "name": "ipython",
    "version": 3
   },
   "file_extension": ".py",
   "mimetype": "text/x-python",
   "name": "python",
   "nbconvert_exporter": "python",
   "pygments_lexer": "ipython3",
   "version": "3.10.2"
  }
 },
 "nbformat": 4,
 "nbformat_minor": 4
}
